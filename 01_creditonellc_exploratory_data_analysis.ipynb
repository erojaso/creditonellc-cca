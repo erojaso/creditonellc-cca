{
 "cells": [
  {
   "cell_type": "markdown",
   "metadata": {},
   "source": [
    "# Credit Commitments Compliance Evaluation\n",
    "\n",
    "## Business case\n",
    "\n",
    "Credit One is a credit risk rating company, its '**business partners**' use their services to identify possible risks in the profile of one of their clients prior to granting a loan.\n",
    "Recently, Credit One has seen an increase in the number of customers who have defaulted on loans granted by their business partners, and Credit One as a credit rating could risk losing business if the problem is not resolved correctly.\n",
    "\n",
    "## Objective\n",
    "\n",
    "Credit One **has the primary need to identify and weigh the relevant attributes** that allow it to classify, with a better criterion, the clients that will fulfill their credit commitments.\n",
    "\n",
    "## Scope\n",
    "\n",
    "Achieve a `satisfactory classification`, using Machine Learning tools; of **those clients that will fulfill their credit commitments with a minimum acceptance criterion greater than 85%, thus reaching the ratings of 'will meet' (> = 85%) or 'will not meet' (<85%)**.\n",
    "\n",
    "### 1. Setup work environment\n",
    "     a) Load libraries\n",
    "     b) Load dataset\n",
    "     \n",
    "\n",
    "<font color='red'>**Note**.</font> The type of currency for Credit Amount and other currency attributes, such as: 'Pay', 'BillAMT' and 'PayAMT', have been expressed in **new taiwanese dollar**, for this work we will abbreviate it to '**dollar**' in `lower case`.\n",
    "\n",
    "     \n",
    "Dataset Source:[ics.uci.edu](https://archive.ics.uci.edu/ml/datasets/default+of+credit+card+clients)"
   ]
  },
  {
   "cell_type": "code",
   "execution_count": 64,
   "metadata": {},
   "outputs": [],
   "source": [
    "# Load libraries\n",
    "import numpy as np\n",
    "import pandas as pd\n",
    "from pandas import Series, DataFrame, set_option\n",
    "import matplotlib as mpl\n",
    "import matplotlib.pyplot as plt\n",
    "import seaborn as sns\n",
    "import statsmodels.api as sm\n",
    "import pylab\n",
    "\n",
    "%matplotlib inline\n",
    "\n",
    "set_option('display.width', 100)\n",
    "set_option('precision', 3)\n",
    "\n",
    "# set default matplot figure size\n",
    "pylab.rcParams['figure.figsize'] = (10.0, 8.0)"
   ]
  },
  {
   "cell_type": "code",
   "execution_count": 22,
   "metadata": {},
   "outputs": [
    {
     "name": "stdout",
     "output_type": "stream",
     "text": [
      "Rows and columns count: (30000, 25)\n"
     ]
    }
   ],
   "source": [
    "# Load dataset\n",
    "url = '.\\data\\CreditOne-CCC.csv'\n",
    "names = ['Id', 'TotalLoan', 'Gender', 'Education', 'MaritalStatus', 'Age', \n",
    "         'Pay0', 'Pay2', 'Pay3', 'Pay4', 'Pay5', 'Pay6', \n",
    "         'BillAMT1', 'BillAMT2', 'BillAMT3', 'BillAMT4', 'BillAMT5', 'BillAMT6', \n",
    "         'PayAMT1', 'PayAMT2', 'PayAMT3', 'PayAMT4', 'PayAMT5', 'PayAMT6', \n",
    "         'DefaultPayment']\n",
    "\n",
    "df = pd.read_csv(url, sep=\",\", names=names)\n",
    "\n",
    "print('Rows and columns count:', df.shape)"
   ]
  },
  {
   "cell_type": "code",
   "execution_count": 23,
   "metadata": {},
   "outputs": [
    {
     "name": "stdout",
     "output_type": "stream",
     "text": [
      "Columns names: Index(['Id', 'TotalLoan', 'Gender', 'Education', 'MaritalStatus', 'Age',\n",
      "       'Pay0', 'Pay2', 'Pay3', 'Pay4', 'Pay5', 'Pay6', 'BillAMT1', 'BillAMT2',\n",
      "       'BillAMT3', 'BillAMT4', 'BillAMT5', 'BillAMT6', 'PayAMT1', 'PayAMT2',\n",
      "       'PayAMT3', 'PayAMT4', 'PayAMT5', 'PayAMT6', 'DefaultPayment'],\n",
      "      dtype='object')\n"
     ]
    }
   ],
   "source": [
    "print('Columns names:', df.columns)"
   ]
  },
  {
   "cell_type": "markdown",
   "metadata": {},
   "source": [
    "### 2. Descriptive Stats and Visualization\n",
    "    a) Descriptive statistics\n",
    "    b) Data visualizations\n",
    "    \n",
    "##### Descriptive statistics    "
   ]
  },
  {
   "cell_type": "code",
   "execution_count": 24,
   "metadata": {},
   "outputs": [
    {
     "name": "stdout",
     "output_type": "stream",
     "text": [
      "<class 'pandas.core.frame.DataFrame'>\n",
      "RangeIndex: 30000 entries, 0 to 29999\n",
      "Data columns (total 25 columns):\n",
      "Id                30000 non-null int64\n",
      "TotalLoan         30000 non-null int64\n",
      "Gender            30000 non-null int64\n",
      "Education         30000 non-null int64\n",
      "MaritalStatus     30000 non-null int64\n",
      "Age               30000 non-null int64\n",
      "Pay0              30000 non-null int64\n",
      "Pay2              30000 non-null int64\n",
      "Pay3              30000 non-null int64\n",
      "Pay4              30000 non-null int64\n",
      "Pay5              30000 non-null int64\n",
      "Pay6              30000 non-null int64\n",
      "BillAMT1          30000 non-null int64\n",
      "BillAMT2          30000 non-null int64\n",
      "BillAMT3          30000 non-null int64\n",
      "BillAMT4          30000 non-null int64\n",
      "BillAMT5          30000 non-null int64\n",
      "BillAMT6          30000 non-null int64\n",
      "PayAMT1           30000 non-null int64\n",
      "PayAMT2           30000 non-null int64\n",
      "PayAMT3           30000 non-null int64\n",
      "PayAMT4           30000 non-null int64\n",
      "PayAMT5           30000 non-null int64\n",
      "PayAMT6           30000 non-null int64\n",
      "DefaultPayment    30000 non-null int64\n",
      "dtypes: int64(25)\n",
      "memory usage: 5.7 MB\n"
     ]
    }
   ],
   "source": [
    "# Descriptive statistics\n",
    "\n",
    "# Exploring A Dataset\n",
    "df.info()"
   ]
  },
  {
   "cell_type": "markdown",
   "metadata": {},
   "source": [
    "It can be noted that there are 30K observations (`rows`) and 25 attributes (`columns`). Preliminary all are of type 'int64' and has no missing values in any of its attributes."
   ]
  },
  {
   "cell_type": "code",
   "execution_count": 25,
   "metadata": {},
   "outputs": [
    {
     "data": {
      "text/html": [
       "<div>\n",
       "<style scoped>\n",
       "    .dataframe tbody tr th:only-of-type {\n",
       "        vertical-align: middle;\n",
       "    }\n",
       "\n",
       "    .dataframe tbody tr th {\n",
       "        vertical-align: top;\n",
       "    }\n",
       "\n",
       "    .dataframe thead th {\n",
       "        text-align: right;\n",
       "    }\n",
       "</style>\n",
       "<table border=\"1\" class=\"dataframe\">\n",
       "  <thead>\n",
       "    <tr style=\"text-align: right;\">\n",
       "      <th></th>\n",
       "      <th>Id</th>\n",
       "      <th>TotalLoan</th>\n",
       "      <th>Gender</th>\n",
       "      <th>Education</th>\n",
       "      <th>MaritalStatus</th>\n",
       "      <th>Age</th>\n",
       "      <th>Pay0</th>\n",
       "      <th>Pay2</th>\n",
       "      <th>Pay3</th>\n",
       "      <th>Pay4</th>\n",
       "      <th>...</th>\n",
       "      <th>BillAMT4</th>\n",
       "      <th>BillAMT5</th>\n",
       "      <th>BillAMT6</th>\n",
       "      <th>PayAMT1</th>\n",
       "      <th>PayAMT2</th>\n",
       "      <th>PayAMT3</th>\n",
       "      <th>PayAMT4</th>\n",
       "      <th>PayAMT5</th>\n",
       "      <th>PayAMT6</th>\n",
       "      <th>DefaultPayment</th>\n",
       "    </tr>\n",
       "  </thead>\n",
       "  <tbody>\n",
       "    <tr>\n",
       "      <td>0</td>\n",
       "      <td>1</td>\n",
       "      <td>20000</td>\n",
       "      <td>2</td>\n",
       "      <td>2</td>\n",
       "      <td>1</td>\n",
       "      <td>24</td>\n",
       "      <td>2</td>\n",
       "      <td>2</td>\n",
       "      <td>-1</td>\n",
       "      <td>-1</td>\n",
       "      <td>...</td>\n",
       "      <td>0</td>\n",
       "      <td>0</td>\n",
       "      <td>0</td>\n",
       "      <td>0</td>\n",
       "      <td>689</td>\n",
       "      <td>0</td>\n",
       "      <td>0</td>\n",
       "      <td>0</td>\n",
       "      <td>0</td>\n",
       "      <td>1</td>\n",
       "    </tr>\n",
       "    <tr>\n",
       "      <td>1</td>\n",
       "      <td>2</td>\n",
       "      <td>120000</td>\n",
       "      <td>2</td>\n",
       "      <td>2</td>\n",
       "      <td>2</td>\n",
       "      <td>26</td>\n",
       "      <td>-1</td>\n",
       "      <td>2</td>\n",
       "      <td>0</td>\n",
       "      <td>0</td>\n",
       "      <td>...</td>\n",
       "      <td>3272</td>\n",
       "      <td>3455</td>\n",
       "      <td>3261</td>\n",
       "      <td>0</td>\n",
       "      <td>1000</td>\n",
       "      <td>1000</td>\n",
       "      <td>1000</td>\n",
       "      <td>0</td>\n",
       "      <td>2000</td>\n",
       "      <td>1</td>\n",
       "    </tr>\n",
       "    <tr>\n",
       "      <td>2</td>\n",
       "      <td>3</td>\n",
       "      <td>90000</td>\n",
       "      <td>2</td>\n",
       "      <td>2</td>\n",
       "      <td>2</td>\n",
       "      <td>34</td>\n",
       "      <td>0</td>\n",
       "      <td>0</td>\n",
       "      <td>0</td>\n",
       "      <td>0</td>\n",
       "      <td>...</td>\n",
       "      <td>14331</td>\n",
       "      <td>14948</td>\n",
       "      <td>15549</td>\n",
       "      <td>1518</td>\n",
       "      <td>1500</td>\n",
       "      <td>1000</td>\n",
       "      <td>1000</td>\n",
       "      <td>1000</td>\n",
       "      <td>5000</td>\n",
       "      <td>0</td>\n",
       "    </tr>\n",
       "    <tr>\n",
       "      <td>3</td>\n",
       "      <td>4</td>\n",
       "      <td>50000</td>\n",
       "      <td>2</td>\n",
       "      <td>2</td>\n",
       "      <td>1</td>\n",
       "      <td>37</td>\n",
       "      <td>0</td>\n",
       "      <td>0</td>\n",
       "      <td>0</td>\n",
       "      <td>0</td>\n",
       "      <td>...</td>\n",
       "      <td>28314</td>\n",
       "      <td>28959</td>\n",
       "      <td>29547</td>\n",
       "      <td>2000</td>\n",
       "      <td>2019</td>\n",
       "      <td>1200</td>\n",
       "      <td>1100</td>\n",
       "      <td>1069</td>\n",
       "      <td>1000</td>\n",
       "      <td>0</td>\n",
       "    </tr>\n",
       "    <tr>\n",
       "      <td>4</td>\n",
       "      <td>5</td>\n",
       "      <td>50000</td>\n",
       "      <td>1</td>\n",
       "      <td>2</td>\n",
       "      <td>1</td>\n",
       "      <td>57</td>\n",
       "      <td>-1</td>\n",
       "      <td>0</td>\n",
       "      <td>-1</td>\n",
       "      <td>0</td>\n",
       "      <td>...</td>\n",
       "      <td>20940</td>\n",
       "      <td>19146</td>\n",
       "      <td>19131</td>\n",
       "      <td>2000</td>\n",
       "      <td>36681</td>\n",
       "      <td>10000</td>\n",
       "      <td>9000</td>\n",
       "      <td>689</td>\n",
       "      <td>679</td>\n",
       "      <td>0</td>\n",
       "    </tr>\n",
       "  </tbody>\n",
       "</table>\n",
       "<p>5 rows × 25 columns</p>\n",
       "</div>"
      ],
      "text/plain": [
       "   Id  TotalLoan  Gender  Education  MaritalStatus  Age  Pay0  Pay2  Pay3  \\\n",
       "0   1      20000       2          2              1   24     2     2    -1   \n",
       "1   2     120000       2          2              2   26    -1     2     0   \n",
       "2   3      90000       2          2              2   34     0     0     0   \n",
       "3   4      50000       2          2              1   37     0     0     0   \n",
       "4   5      50000       1          2              1   57    -1     0    -1   \n",
       "\n",
       "   Pay4  ...  BillAMT4  BillAMT5  BillAMT6  PayAMT1  PayAMT2  PayAMT3  \\\n",
       "0    -1  ...         0         0         0        0      689        0   \n",
       "1     0  ...      3272      3455      3261        0     1000     1000   \n",
       "2     0  ...     14331     14948     15549     1518     1500     1000   \n",
       "3     0  ...     28314     28959     29547     2000     2019     1200   \n",
       "4     0  ...     20940     19146     19131     2000    36681    10000   \n",
       "\n",
       "   PayAMT4  PayAMT5  PayAMT6  DefaultPayment  \n",
       "0        0        0        0               1  \n",
       "1     1000        0     2000               1  \n",
       "2     1000     1000     5000               0  \n",
       "3     1100     1069     1000               0  \n",
       "4     9000      689      679               0  \n",
       "\n",
       "[5 rows x 25 columns]"
      ]
     },
     "execution_count": 25,
     "metadata": {},
     "output_type": "execute_result"
    }
   ],
   "source": [
    "# chenck the firsts rows\n",
    "df.head(5)"
   ]
  },
  {
   "cell_type": "markdown",
   "metadata": {},
   "source": [
    "Some of the attributes should be converted into classifications, such as: **Gender**, **Education**, **MaritalStatus** and **DefaultPayment**.\n",
    "\n",
    "The 'Age' attribute could facilitate the analysis by '**age group**', which would facilitate the study by large classifications, such as: `Youth Z` (0-35), `Youth Y` (36-53), `Adulthood` (54-71) and `Major` (72 - more)."
   ]
  },
  {
   "cell_type": "code",
   "execution_count": 26,
   "metadata": {},
   "outputs": [
    {
     "data": {
      "text/html": [
       "<div>\n",
       "<style scoped>\n",
       "    .dataframe tbody tr th:only-of-type {\n",
       "        vertical-align: middle;\n",
       "    }\n",
       "\n",
       "    .dataframe tbody tr th {\n",
       "        vertical-align: top;\n",
       "    }\n",
       "\n",
       "    .dataframe thead th {\n",
       "        text-align: right;\n",
       "    }\n",
       "</style>\n",
       "<table border=\"1\" class=\"dataframe\">\n",
       "  <thead>\n",
       "    <tr style=\"text-align: right;\">\n",
       "      <th></th>\n",
       "      <th>Id</th>\n",
       "      <th>TotalLoan</th>\n",
       "      <th>Gender</th>\n",
       "      <th>Education</th>\n",
       "      <th>MaritalStatus</th>\n",
       "      <th>Age</th>\n",
       "      <th>Pay0</th>\n",
       "      <th>Pay2</th>\n",
       "      <th>Pay3</th>\n",
       "      <th>Pay4</th>\n",
       "      <th>...</th>\n",
       "      <th>BillAMT4</th>\n",
       "      <th>BillAMT5</th>\n",
       "      <th>BillAMT6</th>\n",
       "      <th>PayAMT1</th>\n",
       "      <th>PayAMT2</th>\n",
       "      <th>PayAMT3</th>\n",
       "      <th>PayAMT4</th>\n",
       "      <th>PayAMT5</th>\n",
       "      <th>PayAMT6</th>\n",
       "      <th>DefaultPayment</th>\n",
       "    </tr>\n",
       "  </thead>\n",
       "  <tbody>\n",
       "    <tr>\n",
       "      <td>count</td>\n",
       "      <td>30000.000000</td>\n",
       "      <td>30000.000000</td>\n",
       "      <td>30000.000000</td>\n",
       "      <td>30000.000000</td>\n",
       "      <td>30000.000000</td>\n",
       "      <td>30000.000000</td>\n",
       "      <td>30000.000000</td>\n",
       "      <td>30000.000000</td>\n",
       "      <td>30000.000000</td>\n",
       "      <td>30000.000000</td>\n",
       "      <td>...</td>\n",
       "      <td>30000.000000</td>\n",
       "      <td>30000.000000</td>\n",
       "      <td>30000.000000</td>\n",
       "      <td>30000.000000</td>\n",
       "      <td>3.000000e+04</td>\n",
       "      <td>30000.00000</td>\n",
       "      <td>30000.000000</td>\n",
       "      <td>30000.000000</td>\n",
       "      <td>30000.000000</td>\n",
       "      <td>30000.000000</td>\n",
       "    </tr>\n",
       "    <tr>\n",
       "      <td>mean</td>\n",
       "      <td>15000.500000</td>\n",
       "      <td>167484.322667</td>\n",
       "      <td>1.603733</td>\n",
       "      <td>1.853133</td>\n",
       "      <td>1.551867</td>\n",
       "      <td>35.485500</td>\n",
       "      <td>-0.016700</td>\n",
       "      <td>-0.133767</td>\n",
       "      <td>-0.166200</td>\n",
       "      <td>-0.220667</td>\n",
       "      <td>...</td>\n",
       "      <td>43262.948967</td>\n",
       "      <td>40311.400967</td>\n",
       "      <td>38871.760400</td>\n",
       "      <td>5663.580500</td>\n",
       "      <td>5.921163e+03</td>\n",
       "      <td>5225.68150</td>\n",
       "      <td>4826.076867</td>\n",
       "      <td>4799.387633</td>\n",
       "      <td>5215.502567</td>\n",
       "      <td>0.221200</td>\n",
       "    </tr>\n",
       "    <tr>\n",
       "      <td>std</td>\n",
       "      <td>8660.398374</td>\n",
       "      <td>129747.661567</td>\n",
       "      <td>0.489129</td>\n",
       "      <td>0.790349</td>\n",
       "      <td>0.521970</td>\n",
       "      <td>9.217904</td>\n",
       "      <td>1.123802</td>\n",
       "      <td>1.197186</td>\n",
       "      <td>1.196868</td>\n",
       "      <td>1.169139</td>\n",
       "      <td>...</td>\n",
       "      <td>64332.856134</td>\n",
       "      <td>60797.155770</td>\n",
       "      <td>59554.107537</td>\n",
       "      <td>16563.280354</td>\n",
       "      <td>2.304087e+04</td>\n",
       "      <td>17606.96147</td>\n",
       "      <td>15666.159744</td>\n",
       "      <td>15278.305679</td>\n",
       "      <td>17777.465775</td>\n",
       "      <td>0.415062</td>\n",
       "    </tr>\n",
       "    <tr>\n",
       "      <td>min</td>\n",
       "      <td>1.000000</td>\n",
       "      <td>10000.000000</td>\n",
       "      <td>1.000000</td>\n",
       "      <td>0.000000</td>\n",
       "      <td>0.000000</td>\n",
       "      <td>21.000000</td>\n",
       "      <td>-2.000000</td>\n",
       "      <td>-2.000000</td>\n",
       "      <td>-2.000000</td>\n",
       "      <td>-2.000000</td>\n",
       "      <td>...</td>\n",
       "      <td>-170000.000000</td>\n",
       "      <td>-81334.000000</td>\n",
       "      <td>-339603.000000</td>\n",
       "      <td>0.000000</td>\n",
       "      <td>0.000000e+00</td>\n",
       "      <td>0.00000</td>\n",
       "      <td>0.000000</td>\n",
       "      <td>0.000000</td>\n",
       "      <td>0.000000</td>\n",
       "      <td>0.000000</td>\n",
       "    </tr>\n",
       "    <tr>\n",
       "      <td>25%</td>\n",
       "      <td>7500.750000</td>\n",
       "      <td>50000.000000</td>\n",
       "      <td>1.000000</td>\n",
       "      <td>1.000000</td>\n",
       "      <td>1.000000</td>\n",
       "      <td>28.000000</td>\n",
       "      <td>-1.000000</td>\n",
       "      <td>-1.000000</td>\n",
       "      <td>-1.000000</td>\n",
       "      <td>-1.000000</td>\n",
       "      <td>...</td>\n",
       "      <td>2326.750000</td>\n",
       "      <td>1763.000000</td>\n",
       "      <td>1256.000000</td>\n",
       "      <td>1000.000000</td>\n",
       "      <td>8.330000e+02</td>\n",
       "      <td>390.00000</td>\n",
       "      <td>296.000000</td>\n",
       "      <td>252.500000</td>\n",
       "      <td>117.750000</td>\n",
       "      <td>0.000000</td>\n",
       "    </tr>\n",
       "    <tr>\n",
       "      <td>50%</td>\n",
       "      <td>15000.500000</td>\n",
       "      <td>140000.000000</td>\n",
       "      <td>2.000000</td>\n",
       "      <td>2.000000</td>\n",
       "      <td>2.000000</td>\n",
       "      <td>34.000000</td>\n",
       "      <td>0.000000</td>\n",
       "      <td>0.000000</td>\n",
       "      <td>0.000000</td>\n",
       "      <td>0.000000</td>\n",
       "      <td>...</td>\n",
       "      <td>19052.000000</td>\n",
       "      <td>18104.500000</td>\n",
       "      <td>17071.000000</td>\n",
       "      <td>2100.000000</td>\n",
       "      <td>2.009000e+03</td>\n",
       "      <td>1800.00000</td>\n",
       "      <td>1500.000000</td>\n",
       "      <td>1500.000000</td>\n",
       "      <td>1500.000000</td>\n",
       "      <td>0.000000</td>\n",
       "    </tr>\n",
       "    <tr>\n",
       "      <td>75%</td>\n",
       "      <td>22500.250000</td>\n",
       "      <td>240000.000000</td>\n",
       "      <td>2.000000</td>\n",
       "      <td>2.000000</td>\n",
       "      <td>2.000000</td>\n",
       "      <td>41.000000</td>\n",
       "      <td>0.000000</td>\n",
       "      <td>0.000000</td>\n",
       "      <td>0.000000</td>\n",
       "      <td>0.000000</td>\n",
       "      <td>...</td>\n",
       "      <td>54506.000000</td>\n",
       "      <td>50190.500000</td>\n",
       "      <td>49198.250000</td>\n",
       "      <td>5006.000000</td>\n",
       "      <td>5.000000e+03</td>\n",
       "      <td>4505.00000</td>\n",
       "      <td>4013.250000</td>\n",
       "      <td>4031.500000</td>\n",
       "      <td>4000.000000</td>\n",
       "      <td>0.000000</td>\n",
       "    </tr>\n",
       "    <tr>\n",
       "      <td>max</td>\n",
       "      <td>30000.000000</td>\n",
       "      <td>1000000.000000</td>\n",
       "      <td>2.000000</td>\n",
       "      <td>6.000000</td>\n",
       "      <td>3.000000</td>\n",
       "      <td>79.000000</td>\n",
       "      <td>8.000000</td>\n",
       "      <td>8.000000</td>\n",
       "      <td>8.000000</td>\n",
       "      <td>8.000000</td>\n",
       "      <td>...</td>\n",
       "      <td>891586.000000</td>\n",
       "      <td>927171.000000</td>\n",
       "      <td>961664.000000</td>\n",
       "      <td>873552.000000</td>\n",
       "      <td>1.684259e+06</td>\n",
       "      <td>896040.00000</td>\n",
       "      <td>621000.000000</td>\n",
       "      <td>426529.000000</td>\n",
       "      <td>528666.000000</td>\n",
       "      <td>1.000000</td>\n",
       "    </tr>\n",
       "  </tbody>\n",
       "</table>\n",
       "<p>8 rows × 25 columns</p>\n",
       "</div>"
      ],
      "text/plain": [
       "                 Id       TotalLoan        Gender     Education  \\\n",
       "count  30000.000000    30000.000000  30000.000000  30000.000000   \n",
       "mean   15000.500000   167484.322667      1.603733      1.853133   \n",
       "std     8660.398374   129747.661567      0.489129      0.790349   \n",
       "min        1.000000    10000.000000      1.000000      0.000000   \n",
       "25%     7500.750000    50000.000000      1.000000      1.000000   \n",
       "50%    15000.500000   140000.000000      2.000000      2.000000   \n",
       "75%    22500.250000   240000.000000      2.000000      2.000000   \n",
       "max    30000.000000  1000000.000000      2.000000      6.000000   \n",
       "\n",
       "       MaritalStatus           Age          Pay0          Pay2          Pay3  \\\n",
       "count   30000.000000  30000.000000  30000.000000  30000.000000  30000.000000   \n",
       "mean        1.551867     35.485500     -0.016700     -0.133767     -0.166200   \n",
       "std         0.521970      9.217904      1.123802      1.197186      1.196868   \n",
       "min         0.000000     21.000000     -2.000000     -2.000000     -2.000000   \n",
       "25%         1.000000     28.000000     -1.000000     -1.000000     -1.000000   \n",
       "50%         2.000000     34.000000      0.000000      0.000000      0.000000   \n",
       "75%         2.000000     41.000000      0.000000      0.000000      0.000000   \n",
       "max         3.000000     79.000000      8.000000      8.000000      8.000000   \n",
       "\n",
       "               Pay4  ...       BillAMT4       BillAMT5       BillAMT6  \\\n",
       "count  30000.000000  ...   30000.000000   30000.000000   30000.000000   \n",
       "mean      -0.220667  ...   43262.948967   40311.400967   38871.760400   \n",
       "std        1.169139  ...   64332.856134   60797.155770   59554.107537   \n",
       "min       -2.000000  ... -170000.000000  -81334.000000 -339603.000000   \n",
       "25%       -1.000000  ...    2326.750000    1763.000000    1256.000000   \n",
       "50%        0.000000  ...   19052.000000   18104.500000   17071.000000   \n",
       "75%        0.000000  ...   54506.000000   50190.500000   49198.250000   \n",
       "max        8.000000  ...  891586.000000  927171.000000  961664.000000   \n",
       "\n",
       "             PayAMT1       PayAMT2       PayAMT3        PayAMT4  \\\n",
       "count   30000.000000  3.000000e+04   30000.00000   30000.000000   \n",
       "mean     5663.580500  5.921163e+03    5225.68150    4826.076867   \n",
       "std     16563.280354  2.304087e+04   17606.96147   15666.159744   \n",
       "min         0.000000  0.000000e+00       0.00000       0.000000   \n",
       "25%      1000.000000  8.330000e+02     390.00000     296.000000   \n",
       "50%      2100.000000  2.009000e+03    1800.00000    1500.000000   \n",
       "75%      5006.000000  5.000000e+03    4505.00000    4013.250000   \n",
       "max    873552.000000  1.684259e+06  896040.00000  621000.000000   \n",
       "\n",
       "             PayAMT5        PayAMT6  DefaultPayment  \n",
       "count   30000.000000   30000.000000    30000.000000  \n",
       "mean     4799.387633    5215.502567        0.221200  \n",
       "std     15278.305679   17777.465775        0.415062  \n",
       "min         0.000000       0.000000        0.000000  \n",
       "25%       252.500000     117.750000        0.000000  \n",
       "50%      1500.000000    1500.000000        0.000000  \n",
       "75%      4031.500000    4000.000000        0.000000  \n",
       "max    426529.000000  528666.000000        1.000000  \n",
       "\n",
       "[8 rows x 25 columns]"
      ]
     },
     "execution_count": 26,
     "metadata": {},
     "output_type": "execute_result"
    }
   ],
   "source": [
    "# Attribute features\n",
    "df.describe()"
   ]
  },
  {
   "cell_type": "markdown",
   "metadata": {},
   "source": [
    "The range of the values in loan extends from 10 thousand to one million with an average of 14 thousand dollars.\n",
    "\n",
    "The data for: Gender, Education and MaritalStatus, require a detailed review. The attributes have values that do not correspond to the classifications previously described [here](https://archive.ics.uci.edu/ml/datasets/default+of+credit+card+clients).\n",
    "\n",
    "The values for the BillAMT and PayAMT groups must be analyzed, they present negative values and values with very wide ranges that may not be correlated with the loan amount."
   ]
  },
  {
   "cell_type": "code",
   "execution_count": 58,
   "metadata": {},
   "outputs": [
    {
     "name": "stdout",
     "output_type": "stream",
     "text": [
      "DefaultPayment\n",
      "0    23364\n",
      "1     6636\n",
      "dtype: int64\n"
     ]
    }
   ],
   "source": [
    "# Review Class Distribution\n",
    "\n",
    "# (Yes = 1, No = 0)\n",
    "DefaultPayment_counts = df.groupby('DefaultPayment').size()\n",
    "print(DefaultPayment_counts)"
   ]
  },
  {
   "cell_type": "code",
   "execution_count": 59,
   "metadata": {},
   "outputs": [
    {
     "name": "stdout",
     "output_type": "stream",
     "text": [
      "The dataset has 30000 observations, which 23364 (77.88%) 'are overdue'; while 6636 (22.12%) correspond to credits that are up to date with their credit obligations.\n"
     ]
    }
   ],
   "source": [
    "dfcnt = df.DefaultPayment.count()\n",
    "dfpNO = DefaultPayment_counts[0]\n",
    "dfpYES = DefaultPayment_counts[1]\n",
    "dfpNPC = round((dfpNO/dfcnt)*100, 2)\n",
    "dfpYPC = round((dfpYES/dfcnt)*100, 2)\n",
    "\n",
    "print('The dataset has {} observations, which {} ({}%) \\'are overdue\\'; while {} ({}%) correspond to credits that are up to date with their credit obligations.'.format(dfcnt, dfpNO, dfpNPC, dfpYES, dfpYPC))"
   ]
  },
  {
   "cell_type": "code",
   "execution_count": 74,
   "metadata": {},
   "outputs": [
    {
     "data": {
      "image/png": "[encoded data removed]",
      "text/plain": [
       "<Figure size 720x576 with 2 Axes>"
      ]
     },
     "metadata": {
      "needs_background": "light"
     },
     "output_type": "display_data"
    }
   ],
   "source": [
    "# Correlations between attributes\n",
    "\n",
    "# Pairwise Pearson correlations\n",
    "corr = df.set_index('DefaultPayment').corr(method='pearson')\n",
    "# print(corr)\n",
    "\n",
    "sm.graphics.plot_corr(corr, xnames=list(corr.columns))\n",
    "plt.show()"
   ]
  },
  {
   "cell_type": "code",
   "execution_count": 101,
   "metadata": {},
   "outputs": [],
   "source": [
    "# 'RdBu_r' & 'BrBG' are other good diverging colormaps\n",
    "# corr.style.background_gradient(cmap='coolwarm').set_precision(2)"
   ]
  },
  {
   "cell_type": "markdown",
   "metadata": {},
   "source": [
    "We can observe a strong correlation between 'BillAMT (n)' and 'DefaultPayment', in the same way an average correlation with respect to 'Pay (n)' and 'DefaultPayment'. This indicates the need to review '**collinearity**' between variables.\n",
    "These factors must be evaluated during data cleaning.\n",
    "\n",
    "**Note**. See 'data visualizations' below for better detail."
   ]
  },
  {
   "cell_type": "code",
   "execution_count": 102,
   "metadata": {},
   "outputs": [
    {
     "name": "stdout",
     "output_type": "stream",
     "text": [
      "Id                 0.000\n",
      "TotalLoan          0.993\n",
      "Gender            -0.424\n",
      "Education          0.971\n",
      "MaritalStatus     -0.019\n",
      "Age                0.732\n",
      "Pay0               0.732\n",
      "Pay2               0.791\n",
      "Pay3               0.841\n",
      "Pay4               1.000\n",
      "Pay5               1.008\n",
      "Pay6               0.948\n",
      "BillAMT1           2.664\n",
      "BillAMT2           2.705\n",
      "BillAMT3           3.088\n",
      "BillAMT4           2.822\n",
      "BillAMT5           2.876\n",
      "BillAMT6           2.847\n",
      "PayAMT1           14.668\n",
      "PayAMT2           30.454\n",
      "PayAMT3           17.217\n",
      "PayAMT4           12.905\n",
      "PayAMT5           11.127\n",
      "PayAMT6           10.641\n",
      "DefaultPayment     1.344\n",
      "dtype: float64\n"
     ]
    }
   ],
   "source": [
    "#  Skew of univariate distributions\n",
    "skew = df.skew()\n",
    "print(skew)"
   ]
  },
  {
   "cell_type": "markdown",
   "metadata": {},
   "source": [
    "The values of BillAMT (n) and PayAMT (n) observed, support what is shown in the analysis of the 'Correlations between attributes' above. \n",
    "\n",
    "<b>Note</b>. The skew result show a positive (right) or negative (left) skew. <a>Values closer to zero show less skew</a>."
   ]
  },
  {
   "cell_type": "code",
   "execution_count": null,
   "metadata": {},
   "outputs": [],
   "source": [
    "# Review general groups"
   ]
  },
  {
   "cell_type": "markdown",
   "metadata": {},
   "source": [
    "### Group by: Gender"
   ]
  },
  {
   "cell_type": "code",
   "execution_count": 87,
   "metadata": {},
   "outputs": [
    {
     "data": {
      "text/plain": [
       "Gender\n",
       "1    11888\n",
       "2    18112\n",
       "Name: Gender, dtype: int64"
      ]
     },
     "execution_count": 87,
     "metadata": {},
     "output_type": "execute_result"
    }
   ],
   "source": [
    "# group descripcion by gender \n",
    "# (1 = male; 2 = female)\n",
    "df.groupby('Gender')['Gender'].count()"
   ]
  },
  {
   "cell_type": "code",
   "execution_count": 90,
   "metadata": {},
   "outputs": [
    {
     "data": {
      "text/plain": [
       "<seaborn.axisgrid.FacetGrid at 0x27e71a2ba88>"
      ]
     },
     "execution_count": 90,
     "metadata": {},
     "output_type": "execute_result"
    },
    {
     "data": {
      "image/png": "[encoded data removed]",
      "text/plain": [
       "<Figure size 270x360 with 1 Axes>"
      ]
     },
     "metadata": {
      "needs_background": "light"
     },
     "output_type": "display_data"
    }
   ],
   "source": [
    "fg = sns.catplot('Gender', data=df, kind='count', aspect=0.75)\n",
    "fg.set_xlabels('Gender')\n",
    "fg.set_ylabels('Gender Count')"
   ]
  },
  {
   "cell_type": "markdown",
   "metadata": {},
   "source": [
    "### Group By: Education"
   ]
  },
  {
   "cell_type": "code",
   "execution_count": 91,
   "metadata": {},
   "outputs": [
    {
     "data": {
      "text/plain": [
       "Education\n",
       "0       14\n",
       "1    10585\n",
       "2    14030\n",
       "3     4917\n",
       "4      123\n",
       "5      280\n",
       "6       51\n",
       "Name: Education, dtype: int64"
      ]
     },
     "execution_count": 91,
     "metadata": {},
     "output_type": "execute_result"
    }
   ],
   "source": [
    "# group descripcion by education \n",
    "# (1 = graduate school; 2 = university; 3 = high school; \n",
    "# 4 = others, 5 = Not defined, 6 = Not defined)\n",
    "df.groupby('Education')['Education'].count()"
   ]
  },
  {
   "cell_type": "code",
   "execution_count": 93,
   "metadata": {},
   "outputs": [
    {
     "data": {
      "text/plain": [
       "<seaborn.axisgrid.FacetGrid at 0x27e711527c8>"
      ]
     },
     "execution_count": 93,
     "metadata": {},
     "output_type": "execute_result"
    },
    {
     "data": {
      "image/png": "[encoded data removed]",
      "text/plain": [
       "<Figure size 720x360 with 1 Axes>"
      ]
     },
     "metadata": {
      "needs_background": "light"
     },
     "output_type": "display_data"
    }
   ],
   "source": [
    "fg = sns.catplot('Education', data=df, kind='count', aspect=2)\n",
    "fg.set_xlabels('Education')\n",
    "fg.set_ylabels('Education Count')"
   ]
  },
  {
   "cell_type": "markdown",
   "metadata": {},
   "source": [
    "**Note**. We observe that the data presents non-consistent groupings. Group '0' does not exist in the documentation and groups '5' and '6' are classified as 'not defined'. Possibly the best approach is to regroup these into more representative ones, otherwise we would have groups that do not add 'significance' in an eventual modeling through Machine Learning."
   ]
  },
  {
   "cell_type": "markdown",
   "metadata": {},
   "source": [
    "### Group by: Marital Status"
   ]
  },
  {
   "cell_type": "code",
   "execution_count": 94,
   "metadata": {},
   "outputs": [
    {
     "data": {
      "text/plain": [
       "MaritalStatus\n",
       "0       54\n",
       "1    13659\n",
       "2    15964\n",
       "3      323\n",
       "Name: MaritalStatus, dtype: int64"
      ]
     },
     "execution_count": 94,
     "metadata": {},
     "output_type": "execute_result"
    }
   ],
   "source": [
    "# group descripcion by marital status\n",
    "# (0 = Not defined, 1 = married; 2 = single; 3 = others).\n",
    "df.groupby('MaritalStatus')['MaritalStatus'].count()"
   ]
  },
  {
   "cell_type": "code",
   "execution_count": 96,
   "metadata": {},
   "outputs": [
    {
     "data": {
      "text/plain": [
       "<seaborn.axisgrid.FacetGrid at 0x27e71d19bc8>"
      ]
     },
     "execution_count": 96,
     "metadata": {},
     "output_type": "execute_result"
    },
    {
     "data": {
      "image/png": "[encoded data removed]",
      "text/plain": [
       "<Figure size 540x360 with 1 Axes>"
      ]
     },
     "metadata": {
      "needs_background": "light"
     },
     "output_type": "display_data"
    }
   ],
   "source": [
    "fg = sns.catplot('MaritalStatus', data=df, kind='count', aspect=1.5)\n",
    "fg.set_xlabels('MaritalStatus')\n",
    "fg.set_ylabels('MaritalStatus Count')"
   ]
  },
  {
   "cell_type": "markdown",
   "metadata": {},
   "source": [
    "Note. We can observe that the group '0' does not provide a significant reference, as does the group '3', being necessary to evaluate its conjunction during the range adjustment phase."
   ]
  },
  {
   "cell_type": "markdown",
   "metadata": {},
   "source": [
    "### Group by: Gender + Education"
   ]
  },
  {
   "cell_type": "code",
   "execution_count": 103,
   "metadata": {},
   "outputs": [
    {
     "data": {
      "text/plain": [
       "Gender  Education\n",
       "1       0               8\n",
       "        1            4354\n",
       "        2            5374\n",
       "        3            1990\n",
       "        4              42\n",
       "        5              95\n",
       "        6              25\n",
       "2       0               6\n",
       "        1            6231\n",
       "        2            8656\n",
       "        3            2927\n",
       "        4              81\n",
       "        5             185\n",
       "        6              26\n",
       "Name: Gender, dtype: int64"
      ]
     },
     "execution_count": 103,
     "metadata": {},
     "output_type": "execute_result"
    }
   ],
   "source": [
    "# Educational distribution by gender\n",
    "df.groupby(['Gender','Education'])['Gender'].count()"
   ]
  },
  {
   "cell_type": "code",
   "execution_count": 112,
   "metadata": {},
   "outputs": [
    {
     "data": {
      "text/plain": [
       "<seaborn.axisgrid.FacetGrid at 0x27e7221e908>"
      ]
     },
     "execution_count": 112,
     "metadata": {},
     "output_type": "execute_result"
    },
    {
     "data": {
      "image/png": "[encoded data removed]",
      "text/plain": [
       "<Figure size 687.75x360 with 1 Axes>"
      ]
     },
     "metadata": {
      "needs_background": "light"
     },
     "output_type": "display_data"
    }
   ],
   "source": [
    "# instead of use group by will use seaborn\n",
    "g = sns.catplot('Gender', data=df, hue='Education', kind='count', aspect=1.75)\n",
    "g.set_xlabels('Gender')\n",
    "g.set_ylabels('Gender Count')"
   ]
  },
  {
   "cell_type": "markdown",
   "metadata": {},
   "source": [
    "### Group by: Gender + Marital Status"
   ]
  },
  {
   "cell_type": "code",
   "execution_count": 107,
   "metadata": {},
   "outputs": [
    {
     "data": {
      "text/plain": [
       "Gender  MaritalStatus\n",
       "1       0                  14\n",
       "        1                5190\n",
       "        2                6553\n",
       "        3                 131\n",
       "2       0                  40\n",
       "        1                8469\n",
       "        2                9411\n",
       "        3                 192\n",
       "Name: Gender, dtype: int64"
      ]
     },
     "execution_count": 107,
     "metadata": {},
     "output_type": "execute_result"
    }
   ],
   "source": [
    "# Educational distribution by gender\n",
    "df.groupby(['Gender','MaritalStatus'])['Gender'].count()"
   ]
  },
  {
   "cell_type": "code",
   "execution_count": 113,
   "metadata": {},
   "outputs": [
    {
     "data": {
      "text/plain": [
       "<seaborn.axisgrid.FacetGrid at 0x27e722d2ec8>"
      ]
     },
     "execution_count": 113,
     "metadata": {},
     "output_type": "execute_result"
    },
    {
     "data": {
      "image/png": "[encoded data removed]",
      "text/plain": [
       "<Figure size 614.375x360 with 1 Axes>"
      ]
     },
     "metadata": {
      "needs_background": "light"
     },
     "output_type": "display_data"
    }
   ],
   "source": [
    "# instead of use group by will use seaborn\n",
    "g = sns.catplot('Gender', data=df, hue='MaritalStatus', kind='count', aspect=1.5)\n",
    "g.set_xlabels('Gender')\n",
    "g.set_ylabels('Gender Count')"
   ]
  },
  {
   "cell_type": "markdown",
   "metadata": {},
   "source": [
    "#### Data visualizations"
   ]
  },
  {
   "cell_type": "code",
   "execution_count": null,
   "metadata": {},
   "outputs": [],
   "source": []
  },
  {
   "cell_type": "code",
   "execution_count": null,
   "metadata": {},
   "outputs": [],
   "source": []
  },
  {
   "cell_type": "code",
   "execution_count": null,
   "metadata": {},
   "outputs": [],
   "source": []
  },
  {
   "cell_type": "code",
   "execution_count": null,
   "metadata": {},
   "outputs": [],
   "source": [
    "# Feature to Feature Relationships"
   ]
  },
  {
   "cell_type": "code",
   "execution_count": 99,
   "metadata": {},
   "outputs": [],
   "source": [
    "# 'RdBu_r' & 'BrBG' are other good diverging colormaps\n",
    "# correlations.style.background_gradient(cmap='coolwarm').set_precision(2)"
   ]
  },
  {
   "cell_type": "code",
   "execution_count": 84,
   "metadata": {},
   "outputs": [
    {
     "data": {
      "image/png": "[encoded data removed]",
      "text/plain": [
       "<Figure size 864x720 with 2 Axes>"
      ]
     },
     "metadata": {
      "needs_background": "light"
     },
     "output_type": "display_data"
    }
   ],
   "source": [
    "# Heatmap\n",
    "corr = df.drop('DefaultPayment', axis=1).corr()\n",
    "plt.figure(figsize=(12, 10))\n",
    "sns.heatmap(corr[(corr >= 0.5) | (corr <= -0.5)],\n",
    "            cmap='viridis', vmax=1.0, vmin=-1.0, linewidths=0.1,\n",
    "            annot=True, annot_kws={\"size\": 8}, square=True);\n",
    "# plt.savefig('heatmap.png')"
   ]
  },
  {
   "cell_type": "code",
   "execution_count": null,
   "metadata": {},
   "outputs": [],
   "source": []
  },
  {
   "cell_type": "code",
   "execution_count": null,
   "metadata": {},
   "outputs": [],
   "source": []
  },
  {
   "cell_type": "code",
   "execution_count": null,
   "metadata": {},
   "outputs": [],
   "source": []
  },
  {
   "cell_type": "code",
   "execution_count": null,
   "metadata": {},
   "outputs": [],
   "source": []
  }
 ],
 "metadata": {
  "kernelspec": {
   "display_name": "Python 3",
   "language": "python",
   "name": "python3"
  },
  "language_info": {
   "codemirror_mode": {
    "name": "ipython",
    "version": 3
   },
   "file_extension": ".py",
   "mimetype": "text/x-python",
   "name": "python",
   "nbconvert_exporter": "python",
   "pygments_lexer": "ipython3",
   "version": "3.7.4"
  }
 },
 "nbformat": 4,
 "nbformat_minor": 2
}
