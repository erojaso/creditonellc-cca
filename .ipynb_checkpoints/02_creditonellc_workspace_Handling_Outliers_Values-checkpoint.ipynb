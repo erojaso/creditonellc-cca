{
 "cells": [
  {
   "cell_type": "markdown",
   "metadata": {},
   "source": [
    "#### Handling Outliers Values"
   ]
  },
  {
   "cell_type": "code",
   "execution_count": 13,
   "metadata": {},
   "outputs": [],
   "source": [
    "# Load libraries\n",
    "import numpy as np\n",
    "import pandas as pd\n",
    "from pandas import Series, DataFrame, set_option\n",
    "from pandas.plotting import scatter_matrix\n",
    "import matplotlib as mpl\n",
    "import matplotlib.pyplot as plt\n",
    "import seaborn as sns\n",
    "import statsmodels.api as sm\n",
    "import pylab\n",
    "from numpy import mean\n",
    "from numpy import std\n",
    "\n",
    "%matplotlib inline\n",
    "\n",
    "set_option('display.width', 100)\n",
    "set_option('precision', 3)\n",
    "\n",
    "# set default matplot figure size\n",
    "pylab.rcParams['figure.figsize'] = (10.0, 8.0)"
   ]
  },
  {
   "cell_type": "code",
   "execution_count": 107,
   "metadata": {},
   "outputs": [
    {
     "name": "stdout",
     "output_type": "stream",
     "text": [
      "Rows and columns count: (30000, 25)\n"
     ]
    }
   ],
   "source": [
    "# Load dataset\n",
    "url = '.\\data\\CreditOne-CCC.csv'\n",
    "names = ['Id', 'TotalLoan', 'Gender', 'Education', 'MaritalStatus', 'Age', \n",
    "         'HstPaySep15', 'HstPayAug15', 'HstPayJul15', 'HstPayJun15', 'HstPayMay15', 'HstPayApr15', \n",
    "         'BillSep15', 'BillAug15', 'BillJul15', 'BillJun15', 'BillMay15', 'BillApr15', \n",
    "         'PaySep15', 'PayAug15', 'PayJul15', 'PayJun15', 'PayMay15', 'PayApr15', \n",
    "         'DefaultPayment']\n",
    "\n",
    "df = pd.read_csv(url, sep=\",\", names=names)\n",
    "\n",
    "print('Rows and columns count:', df.shape)"
   ]
  },
  {
   "cell_type": "code",
   "execution_count": 35,
   "metadata": {},
   "outputs": [],
   "source": [
    "def compute_outliers(df_attribute, attribute_nm): \n",
    "    \"\"\"\n",
    "    Compute outiers by attribute\n",
    "    \"\"\"\n",
    "    # calculate summary statistics\n",
    "    dfbs_mean, dfbs_std = mean(df_attribute), std(df_attribute)\n",
    "    \n",
    "    # identify outliers\n",
    "    dfbs_off = dfbs_std * 3\n",
    "    lower, upper = dfbs_mean - dfbs_off, dfbs_mean + dfbs_off\n",
    "\n",
    "    # identify outliers\n",
    "    outliers = [x for x in df_attribute if x < lower or x > upper]\n",
    "    \n",
    "    print(attribute_nm + ' - outliers rate: %.2f' % ((len(outliers)/len(df_attribute[attribute_nm]))*100))"
   ]
  },
  {
   "cell_type": "markdown",
   "metadata": {},
   "source": [
    "##### Bill Statement"
   ]
  },
  {
   "cell_type": "code",
   "execution_count": 111,
   "metadata": {},
   "outputs": [
    {
     "name": "stdout",
     "output_type": "stream",
     "text": [
      "BillApr15 ==> mean=38871.760 stdv=59553.115\n",
      "BillMay15 ==> mean=40311.401 stdv=60796.142\n",
      "BillJun15 ==> mean=43262.949 stdv=64331.784\n",
      "BillJul15 ==> mean=47013.155 stdv=69348.232\n",
      "BillAug15 ==> mean=49179.075 stdv=71172.583\n",
      "BillSep15 ==> mean=51223.331 stdv=73634.633\n"
     ]
    }
   ],
   "source": [
    "# summarize: Bill Statement\n",
    "print('BillApr15 ==> mean=%.3f stdv=%.3f' % (mean(df['BillApr15']), std(df['BillApr15'])))\n",
    "print('BillMay15 ==> mean=%.3f stdv=%.3f' % (mean(df['BillMay15']), std(df['BillMay15'])))\n",
    "print('BillJun15 ==> mean=%.3f stdv=%.3f' % (mean(df['BillJun15']), std(df['BillJun15'])))\n",
    "print('BillJul15 ==> mean=%.3f stdv=%.3f' % (mean(df['BillJul15']), std(df['BillJul15'])))\n",
    "print('BillAug15 ==> mean=%.3f stdv=%.3f' % (mean(df['BillAug15']), std(df['BillAug15'])))\n",
    "print('BillSep15 ==> mean=%.3f stdv=%.3f' % (mean(df['BillSep15']), std(df['BillSep15'])))"
   ]
  },
  {
   "cell_type": "code",
   "execution_count": 112,
   "metadata": {},
   "outputs": [
    {
     "data": {
      "text/plain": [
       "array([[<matplotlib.axes._subplots.AxesSubplot object at 0x0000023C5F5A9C48>,\n",
       "        <matplotlib.axes._subplots.AxesSubplot object at 0x0000023C60142248>],\n",
       "       [<matplotlib.axes._subplots.AxesSubplot object at 0x0000023C601721C8>,\n",
       "        <matplotlib.axes._subplots.AxesSubplot object at 0x0000023C601A6248>],\n",
       "       [<matplotlib.axes._subplots.AxesSubplot object at 0x0000023C601D8888>,\n",
       "        <matplotlib.axes._subplots.AxesSubplot object at 0x0000023C6020AEC8>]],\n",
       "      dtype=object)"
      ]
     },
     "execution_count": 112,
     "metadata": {},
     "output_type": "execute_result"
    },
    {
     "data": {
      "text/plain": [
       "<Figure size 648x576 with 0 Axes>"
      ]
     },
     "metadata": {},
     "output_type": "display_data"
    },
    {
     "data": {
      "image/png": "[encoded data removed]",
      "text/plain": [
       "<Figure size 720x576 with 6 Axes>"
      ]
     },
     "metadata": {
      "needs_background": "light"
     },
     "output_type": "display_data"
    }
   ],
   "source": [
    "# plot: Bill Statement\n",
    "dfbs = df.iloc[:,12:18]\n",
    "plt.figure(figsize=(9, 8))\n",
    "dfbs.hist(bins=30, xlabelsize=10, ylabelsize=10)"
   ]
  },
  {
   "cell_type": "code",
   "execution_count": 70,
   "metadata": {},
   "outputs": [
    {
     "ename": "NameError",
     "evalue": "name 'dfbs' is not defined",
     "output_type": "error",
     "traceback": [
      "\u001b[1;31m---------------------------------------------------------------------------\u001b[0m",
      "\u001b[1;31mNameError\u001b[0m                                 Traceback (most recent call last)",
      "\u001b[1;32m<ipython-input-70-1fdd2a5d6228>\u001b[0m in \u001b[0;36m<module>\u001b[1;34m\u001b[0m\n\u001b[0;32m      1\u001b[0m \u001b[1;31m# compute outliers rate\u001b[0m\u001b[1;33m\u001b[0m\u001b[1;33m\u001b[0m\u001b[1;33m\u001b[0m\u001b[0m\n\u001b[1;32m----> 2\u001b[1;33m \u001b[0mcompute_outliers\u001b[0m\u001b[1;33m(\u001b[0m\u001b[0mdfbs\u001b[0m\u001b[1;33m[\u001b[0m\u001b[1;34m'BillApr15'\u001b[0m\u001b[1;33m]\u001b[0m\u001b[1;33m,\u001b[0m \u001b[1;34m'BillApr15'\u001b[0m\u001b[1;33m)\u001b[0m\u001b[1;33m\u001b[0m\u001b[1;33m\u001b[0m\u001b[0m\n\u001b[0m\u001b[0;32m      3\u001b[0m \u001b[0mcompute_outliers\u001b[0m\u001b[1;33m(\u001b[0m\u001b[0mdfbs\u001b[0m\u001b[1;33m[\u001b[0m\u001b[1;34m'BillMay15'\u001b[0m\u001b[1;33m]\u001b[0m\u001b[1;33m,\u001b[0m \u001b[1;34m'BillMay15'\u001b[0m\u001b[1;33m)\u001b[0m\u001b[1;33m\u001b[0m\u001b[1;33m\u001b[0m\u001b[0m\n\u001b[0;32m      4\u001b[0m \u001b[0mcompute_outliers\u001b[0m\u001b[1;33m(\u001b[0m\u001b[0mdfbs\u001b[0m\u001b[1;33m[\u001b[0m\u001b[1;34m'BillJun15'\u001b[0m\u001b[1;33m]\u001b[0m\u001b[1;33m,\u001b[0m \u001b[1;34m'BillJun15'\u001b[0m\u001b[1;33m)\u001b[0m\u001b[1;33m\u001b[0m\u001b[1;33m\u001b[0m\u001b[0m\n\u001b[0;32m      5\u001b[0m \u001b[0mcompute_outliers\u001b[0m\u001b[1;33m(\u001b[0m\u001b[0mdfbs\u001b[0m\u001b[1;33m[\u001b[0m\u001b[1;34m'BillJul15'\u001b[0m\u001b[1;33m]\u001b[0m\u001b[1;33m,\u001b[0m \u001b[1;34m'BillJul15'\u001b[0m\u001b[1;33m)\u001b[0m\u001b[1;33m\u001b[0m\u001b[1;33m\u001b[0m\u001b[0m\n",
      "\u001b[1;31mNameError\u001b[0m: name 'dfbs' is not defined"
     ]
    }
   ],
   "source": [
    "# compute outliers rate\n",
    "compute_outliers(dfbs['BillApr15'], 'BillApr15')\n",
    "compute_outliers(dfbs['BillMay15'], 'BillMay15')\n",
    "compute_outliers(dfbs['BillJun15'], 'BillJun15')\n",
    "compute_outliers(dfbs['BillJul15'], 'BillJul15')\n",
    "compute_outliers(dfbs['BillAug15'], 'BillAug15')\n",
    "compute_outliers(dfbs['BillSep15'], 'BillSep15')"
   ]
  },
  {
   "cell_type": "markdown",
   "metadata": {},
   "source": [
    "##### Previous Payment"
   ]
  },
  {
   "cell_type": "code",
   "execution_count": 147,
   "metadata": {},
   "outputs": [
    {
     "name": "stdout",
     "output_type": "stream",
     "text": [
      "PayApr15 ==> mean=5215.503 stdv=17777.169\n",
      "PayMay15 ==> mean=4799.388 stdv=15278.051\n",
      "PayJun15 ==> mean=4826.077 stdv=15665.899\n",
      "PayJul15 ==> mean=5225.681 stdv=17606.668\n",
      "PayAug15 ==> mean=5921.163 stdv=23040.486\n",
      "PaySep15 ==> mean=5663.581 stdv=16563.004\n"
     ]
    }
   ],
   "source": [
    "# summarize: Previous Payment\n",
    "print('PayApr15 ==> mean=%.3f stdv=%.3f' % (mean(df['PayApr15']), std(df['PayApr15'])))\n",
    "print('PayMay15 ==> mean=%.3f stdv=%.3f' % (mean(df['PayMay15']), std(df['PayMay15'])))\n",
    "print('PayJun15 ==> mean=%.3f stdv=%.3f' % (mean(df['PayJun15']), std(df['PayJun15'])))\n",
    "print('PayJul15 ==> mean=%.3f stdv=%.3f' % (mean(df['PayJul15']), std(df['PayJul15'])))\n",
    "print('PayAug15 ==> mean=%.3f stdv=%.3f' % (mean(df['PayAug15']), std(df['PayAug15'])))\n",
    "print('PaySep15 ==> mean=%.3f stdv=%.3f' % (mean(df['PaySep15']), std(df['PaySep15'])))"
   ]
  },
  {
   "cell_type": "code",
   "execution_count": 148,
   "metadata": {},
   "outputs": [
    {
     "data": {
      "text/plain": [
       "array([[<matplotlib.axes._subplots.AxesSubplot object at 0x0000023C614112C8>,\n",
       "        <matplotlib.axes._subplots.AxesSubplot object at 0x0000023C61696308>],\n",
       "       [<matplotlib.axes._subplots.AxesSubplot object at 0x0000023C616AE248>,\n",
       "        <matplotlib.axes._subplots.AxesSubplot object at 0x0000023C616E15C8>],\n",
       "       [<matplotlib.axes._subplots.AxesSubplot object at 0x0000023C61712808>,\n",
       "        <matplotlib.axes._subplots.AxesSubplot object at 0x0000023C61740D08>]],\n",
       "      dtype=object)"
      ]
     },
     "execution_count": 148,
     "metadata": {},
     "output_type": "execute_result"
    },
    {
     "data": {
      "text/plain": [
       "<Figure size 648x576 with 0 Axes>"
      ]
     },
     "metadata": {},
     "output_type": "display_data"
    },
    {
     "data": {
      "image/png": "[encoded data removed]",
      "text/plain": [
       "<Figure size 720x576 with 6 Axes>"
      ]
     },
     "metadata": {
      "needs_background": "light"
     },
     "output_type": "display_data"
    }
   ],
   "source": [
    "# plot: Previous Payment\n",
    "dfpp = df.iloc[:,18:24]\n",
    "plt.figure(figsize=(9, 8))\n",
    "dfpp.hist(bins=30, xlabelsize=10, ylabelsize=10)"
   ]
  },
  {
   "cell_type": "code",
   "execution_count": 150,
   "metadata": {},
   "outputs": [
    {
     "name": "stdout",
     "output_type": "stream",
     "text": [
      "PayApr15 - outliers rate: 1.46\n",
      "PayMay15 - outliers rate: 1.38\n",
      "PayJun15 - outliers rate: 1.32\n",
      "PayJul15 - outliers rate: 1.21\n",
      "PayAug15 - outliers rate: 1.02\n",
      "PaySep15 - outliers rate: 1.30\n"
     ]
    }
   ],
   "source": [
    "# compute outliers rate\n",
    "compute_outliers(dfpp['PayApr15'], 'PayApr15')\n",
    "compute_outliers(dfpp['PayMay15'], 'PayMay15')\n",
    "compute_outliers(dfpp['PayJun15'], 'PayJun15')\n",
    "compute_outliers(dfpp['PayJul15'], 'PayJul15')\n",
    "compute_outliers(dfpp['PayAug15'], 'PayAug15')\n",
    "compute_outliers(dfpp['PaySep15'], 'PaySep15')"
   ]
  },
  {
   "cell_type": "code",
   "execution_count": 3,
   "metadata": {},
   "outputs": [],
   "source": [
    "# create table\n",
    "data = pd.DataFrame(columns=('Attribute', 'OutlierRaAte'))"
   ]
  },
  {
   "cell_type": "code",
   "execution_count": 11,
   "metadata": {},
   "outputs": [
    {
     "data": {
      "text/html": [
       "<div>\n",
       "<style scoped>\n",
       "    .dataframe tbody tr th:only-of-type {\n",
       "        vertical-align: middle;\n",
       "    }\n",
       "\n",
       "    .dataframe tbody tr th {\n",
       "        vertical-align: top;\n",
       "    }\n",
       "\n",
       "    .dataframe thead th {\n",
       "        text-align: right;\n",
       "    }\n",
       "</style>\n",
       "<table border=\"1\" class=\"dataframe\">\n",
       "  <thead>\n",
       "    <tr style=\"text-align: right;\">\n",
       "      <th></th>\n",
       "      <th>Attribute</th>\n",
       "      <th>OutlierRaAte</th>\n",
       "    </tr>\n",
       "  </thead>\n",
       "  <tbody>\n",
       "    <tr>\n",
       "      <td>0</td>\n",
       "      <td>BillApr15</td>\n",
       "      <td>2.17</td>\n",
       "    </tr>\n",
       "    <tr>\n",
       "      <td>1</td>\n",
       "      <td>BillMay15</td>\n",
       "      <td>2.17</td>\n",
       "    </tr>\n",
       "    <tr>\n",
       "      <td>2</td>\n",
       "      <td>BillJun15</td>\n",
       "      <td>2.27</td>\n",
       "    </tr>\n",
       "    <tr>\n",
       "      <td>3</td>\n",
       "      <td>BillJul15</td>\n",
       "      <td>2.20</td>\n",
       "    </tr>\n",
       "    <tr>\n",
       "      <td>4</td>\n",
       "      <td>BillAug15</td>\n",
       "      <td>2.23</td>\n",
       "    </tr>\n",
       "    <tr>\n",
       "      <td>5</td>\n",
       "      <td>BillSep15</td>\n",
       "      <td>2.29</td>\n",
       "    </tr>\n",
       "  </tbody>\n",
       "</table>\n",
       "</div>"
      ],
      "text/plain": [
       "   Attribute  OutlierRaAte\n",
       "0  BillApr15          2.17\n",
       "1  BillMay15          2.17\n",
       "2  BillJun15          2.27\n",
       "3  BillJul15          2.20\n",
       "4  BillAug15          2.23\n",
       "5  BillSep15          2.29"
      ]
     },
     "execution_count": 11,
     "metadata": {},
     "output_type": "execute_result"
    }
   ],
   "source": [
    "# create table\n",
    "billData = pd.DataFrame(columns=('Attribute', 'OutlierRaAte'))\n",
    "billData.loc[len(billData)]=['BillApr15',2.17]\n",
    "billData.loc[len(billData)]=['BillMay15',2.17]\n",
    "billData.loc[len(billData)]=['BillJun15',2.27]\n",
    "billData.loc[len(billData)]=['BillJul15',2.20]\n",
    "billData.loc[len(billData)]=['BillAug15',2.23]\n",
    "billData.loc[len(billData)]=['BillSep15',2.29]\n",
    "billData"
   ]
  },
  {
   "cell_type": "code",
   "execution_count": 12,
   "metadata": {},
   "outputs": [
    {
     "data": {
      "text/html": [
       "<div>\n",
       "<style scoped>\n",
       "    .dataframe tbody tr th:only-of-type {\n",
       "        vertical-align: middle;\n",
       "    }\n",
       "\n",
       "    .dataframe tbody tr th {\n",
       "        vertical-align: top;\n",
       "    }\n",
       "\n",
       "    .dataframe thead th {\n",
       "        text-align: right;\n",
       "    }\n",
       "</style>\n",
       "<table border=\"1\" class=\"dataframe\">\n",
       "  <thead>\n",
       "    <tr style=\"text-align: right;\">\n",
       "      <th></th>\n",
       "      <th>Attribute</th>\n",
       "      <th>OutlierRaAte</th>\n",
       "    </tr>\n",
       "  </thead>\n",
       "  <tbody>\n",
       "    <tr>\n",
       "      <td>0</td>\n",
       "      <td>PayApr15</td>\n",
       "      <td>1.46</td>\n",
       "    </tr>\n",
       "    <tr>\n",
       "      <td>1</td>\n",
       "      <td>PayMay15</td>\n",
       "      <td>1.38</td>\n",
       "    </tr>\n",
       "    <tr>\n",
       "      <td>2</td>\n",
       "      <td>PayJun15</td>\n",
       "      <td>1.32</td>\n",
       "    </tr>\n",
       "    <tr>\n",
       "      <td>3</td>\n",
       "      <td>PayJul15</td>\n",
       "      <td>1.21</td>\n",
       "    </tr>\n",
       "    <tr>\n",
       "      <td>4</td>\n",
       "      <td>PayAug15</td>\n",
       "      <td>1.02</td>\n",
       "    </tr>\n",
       "    <tr>\n",
       "      <td>5</td>\n",
       "      <td>PaySep15</td>\n",
       "      <td>1.30</td>\n",
       "    </tr>\n",
       "  </tbody>\n",
       "</table>\n",
       "</div>"
      ],
      "text/plain": [
       "  Attribute  OutlierRaAte\n",
       "0  PayApr15          1.46\n",
       "1  PayMay15          1.38\n",
       "2  PayJun15          1.32\n",
       "3  PayJul15          1.21\n",
       "4  PayAug15          1.02\n",
       "5  PaySep15          1.30"
      ]
     },
     "execution_count": 12,
     "metadata": {},
     "output_type": "execute_result"
    }
   ],
   "source": [
    "# create table\n",
    "payData = pd.DataFrame(columns=('Attribute', 'OutlierRaAte'))    \n",
    "payData.loc[len(payData)]=['PayApr15',1.46]\n",
    "payData.loc[len(payData)]=['PayMay15',1.38]\n",
    "payData.loc[len(payData)]=['PayJun15',1.32]\n",
    "payData.loc[len(payData)]=['PayJul15',1.21]\n",
    "payData.loc[len(payData)]=['PayAug15',1.02]\n",
    "payData.loc[len(payData)]=['PaySep15',1.30]   \n",
    "payData"
   ]
  },
  {
   "cell_type": "markdown",
   "metadata": {},
   "source": [
    "#### Data: Total Loan"
   ]
  },
  {
   "cell_type": "code",
   "execution_count": 108,
   "metadata": {},
   "outputs": [],
   "source": [
    "# identify outliers\n",
    "dfbs_mean, dfbs_std = mean(df['TotalLoan']), std(df['TotalLoan'])\n",
    "    \n",
    "    # identify outliers\n",
    "dfbs_off = dfbs_std * 3\n",
    "lower, upper = dfbs_mean - dfbs_off, dfbs_mean + dfbs_off"
   ]
  },
  {
   "cell_type": "code",
   "execution_count": 109,
   "metadata": {},
   "outputs": [
    {
     "name": "stdout",
     "output_type": "stream",
     "text": [
      "count      30000.000\n",
      "mean      167484.323\n",
      "std       129747.662\n",
      "min        10000.000\n",
      "25%        50000.000\n",
      "50%       140000.000\n",
      "75%       240000.000\n",
      "max      1000000.000\n",
      "Name: TotalLoan, dtype: float64\n"
     ]
    },
    {
     "data": {
      "text/plain": [
       "Text(0.5, 1.0, 'Distribution by Total Loan')"
      ]
     },
     "execution_count": 109,
     "metadata": {},
     "output_type": "execute_result"
    },
    {
     "data": {
      "image/png": "[encoded data removed]",
      "text/plain": [
       "<Figure size 864x576 with 1 Axes>"
      ]
     },
     "metadata": {
      "needs_background": "light"
     },
     "output_type": "display_data"
    }
   ],
   "source": [
    "# plot: Total loan Distribution\n",
    "print(df['TotalLoan'].describe())\n",
    "\n",
    "plt.figure(figsize=(12, 8))\n",
    "tl_dist = sns.distplot(df['TotalLoan'], color='g', bins=75, hist_kws={'alpha': 0.4});\n",
    "tl_dist.set_title(\"Distribution by Total Loan\")"
   ]
  },
  {
   "cell_type": "code",
   "execution_count": 110,
   "metadata": {},
   "outputs": [],
   "source": [
    "# remove outliers values\n",
    "df.drop(df[df.TotalLoan >= upper].index, inplace=True)\n",
    "df.drop(df[df.TotalLoan <= lower].index, inplace=True)"
   ]
  },
  {
   "cell_type": "code",
   "execution_count": 111,
   "metadata": {},
   "outputs": [
    {
     "name": "stdout",
     "output_type": "stream",
     "text": [
      "count     29870.000\n",
      "mean     165431.526\n",
      "std      126154.328\n",
      "min       10000.000\n",
      "25%       50000.000\n",
      "50%      140000.000\n",
      "75%      240000.000\n",
      "max      550000.000\n",
      "Name: TotalLoan, dtype: float64\n"
     ]
    },
    {
     "data": {
      "text/plain": [
       "Text(0.5, 1.0, 'Distribution by Total Loan')"
      ]
     },
     "execution_count": 111,
     "metadata": {},
     "output_type": "execute_result"
    },
    {
     "data": {
      "image/png": "[encoded data removed]",
      "text/plain": [
       "<Figure size 864x576 with 1 Axes>"
      ]
     },
     "metadata": {
      "needs_background": "light"
     },
     "output_type": "display_data"
    }
   ],
   "source": [
    "# plot: Total loan Distribution\n",
    "print(df['TotalLoan'].describe())\n",
    "\n",
    "plt.figure(figsize=(12, 8))\n",
    "tl_dist = sns.distplot(df['TotalLoan'], color='g', bins=75, hist_kws={'alpha': 0.4});\n",
    "tl_dist.set_title(\"Distribution by Total Loan\")"
   ]
  },
  {
   "cell_type": "code",
   "execution_count": null,
   "metadata": {},
   "outputs": [],
   "source": []
  }
 ],
 "metadata": {
  "kernelspec": {
   "display_name": "Python 3",
   "language": "python",
   "name": "python3"
  },
  "language_info": {
   "codemirror_mode": {
    "name": "ipython",
    "version": 3
   },
   "file_extension": ".py",
   "mimetype": "text/x-python",
   "name": "python",
   "nbconvert_exporter": "python",
   "pygments_lexer": "ipython3",
   "version": "3.7.4"
  }
 },
 "nbformat": 4,
 "nbformat_minor": 2
}
