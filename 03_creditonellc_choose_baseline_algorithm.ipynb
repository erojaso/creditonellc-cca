{
 "cells": [
  {
   "cell_type": "markdown",
   "metadata": {},
   "source": [
    "# Credit Commitments Compliance Evaluation\n",
    "\n",
    "### 4. Choose a Baseline Algorithm (Evaluate Algorithms)\n",
    "    a) Split-out validation dataset (train/test/valid)\n",
    "    b) K-fold Cross Validation\n",
    "    c) Compare Algorithms\n",
    " \n",
    "#### Load Data"
   ]
  },
  {
   "cell_type": "code",
   "execution_count": 1,
   "metadata": {},
   "outputs": [],
   "source": [
    "# Load libraries\n",
    "import numpy as np\n",
    "import pandas as pd\n",
    "from pandas import Series, DataFrame, set_option\n",
    "from pandas.plotting import scatter_matrix\n",
    "\n",
    "from sklearn.linear_model import LogisticRegression\n",
    "from sklearn.model_selection import train_test_split\n",
    "from sklearn.model_selection import KFold\n",
    "from sklearn.model_selection import cross_val_score\n",
    "from sklearn.model_selection import LeaveOneOut\n",
    "from sklearn.model_selection import ShuffleSplit\n",
    "from sklearn.metrics import classification_report\n",
    "from sklearn.metrics import confusion_matrix\n",
    "from sklearn.metrics import accuracy_score\n",
    "\n",
    "# Compare Algorithms\n",
    "from sklearn.linear_model import LogisticRegression\n",
    "from sklearn.tree import DecisionTreeClassifier\n",
    "from sklearn.neighbors import KNeighborsClassifier\n",
    "from sklearn.discriminant_analysis import LinearDiscriminantAnalysis\n",
    "from sklearn.naive_bayes import GaussianNB\n",
    "from sklearn.svm import SVC\n",
    "\n",
    "import matplotlib as mpl\n",
    "import matplotlib.pyplot as plt\n",
    "import seaborn as sns\n",
    "import statsmodels.api as sm\n",
    "import pylab\n",
    "from pickle import dump\n",
    "from pickle import load\n",
    "\n",
    "%matplotlib inline\n",
    "\n",
    "set_option('display.width', 100)\n",
    "set_option('precision', 3)\n",
    "\n",
    "# set default matplot figure size\n",
    "pylab.rcParams['figure.figsize'] = (10.0, 8.0)"
   ]
  },
  {
   "cell_type": "code",
   "execution_count": 4,
   "metadata": {},
   "outputs": [],
   "source": [
    "# default parameters\n",
    "seed = 7 # random seed\n",
    "test_size = 0.20\n",
    "num_folds = 10\n",
    "n_splits = 10\n",
    "\n",
    "# set file path\n",
    "url = '.\\\\data\\\\CreditOne-CCC-adjusted.csv'"
   ]
  },
  {
   "cell_type": "code",
   "execution_count": 5,
   "metadata": {},
   "outputs": [
    {
     "name": "stdout",
     "output_type": "stream",
     "text": [
      "Rows and columns count: (30000, 21)\n"
     ]
    },
    {
     "data": {
      "text/html": [
       "<div>\n",
       "<style scoped>\n",
       "    .dataframe tbody tr th:only-of-type {\n",
       "        vertical-align: middle;\n",
       "    }\n",
       "\n",
       "    .dataframe tbody tr th {\n",
       "        vertical-align: top;\n",
       "    }\n",
       "\n",
       "    .dataframe thead th {\n",
       "        text-align: right;\n",
       "    }\n",
       "</style>\n",
       "<table border=\"1\" class=\"dataframe\">\n",
       "  <thead>\n",
       "    <tr style=\"text-align: right;\">\n",
       "      <th></th>\n",
       "      <th>TotalLoan</th>\n",
       "      <th>Gender</th>\n",
       "      <th>Education</th>\n",
       "      <th>MaritalStatus</th>\n",
       "      <th>AgeGroup</th>\n",
       "      <th>HstPaySep15</th>\n",
       "      <th>HstPayAug15</th>\n",
       "      <th>HstPayJul15</th>\n",
       "      <th>HstPayJun15</th>\n",
       "      <th>HstPayMay15</th>\n",
       "      <th>...</th>\n",
       "      <th>BillSep15</th>\n",
       "      <th>BillJun15</th>\n",
       "      <th>BillApr15</th>\n",
       "      <th>PaySep15</th>\n",
       "      <th>PayAug15</th>\n",
       "      <th>PayJul15</th>\n",
       "      <th>PayJun15</th>\n",
       "      <th>PayMay15</th>\n",
       "      <th>PayApr15</th>\n",
       "      <th>DefaultPayment</th>\n",
       "    </tr>\n",
       "    <tr>\n",
       "      <th>Id</th>\n",
       "      <th></th>\n",
       "      <th></th>\n",
       "      <th></th>\n",
       "      <th></th>\n",
       "      <th></th>\n",
       "      <th></th>\n",
       "      <th></th>\n",
       "      <th></th>\n",
       "      <th></th>\n",
       "      <th></th>\n",
       "      <th></th>\n",
       "      <th></th>\n",
       "      <th></th>\n",
       "      <th></th>\n",
       "      <th></th>\n",
       "      <th></th>\n",
       "      <th></th>\n",
       "      <th></th>\n",
       "      <th></th>\n",
       "      <th></th>\n",
       "      <th></th>\n",
       "    </tr>\n",
       "  </thead>\n",
       "  <tbody>\n",
       "    <tr>\n",
       "      <td>1</td>\n",
       "      <td>20000</td>\n",
       "      <td>2</td>\n",
       "      <td>2</td>\n",
       "      <td>1</td>\n",
       "      <td>1</td>\n",
       "      <td>2</td>\n",
       "      <td>2</td>\n",
       "      <td>-1</td>\n",
       "      <td>-1</td>\n",
       "      <td>-2</td>\n",
       "      <td>...</td>\n",
       "      <td>3913</td>\n",
       "      <td>0</td>\n",
       "      <td>0</td>\n",
       "      <td>0</td>\n",
       "      <td>689</td>\n",
       "      <td>0</td>\n",
       "      <td>0</td>\n",
       "      <td>0</td>\n",
       "      <td>0</td>\n",
       "      <td>1</td>\n",
       "    </tr>\n",
       "    <tr>\n",
       "      <td>2</td>\n",
       "      <td>120000</td>\n",
       "      <td>2</td>\n",
       "      <td>2</td>\n",
       "      <td>2</td>\n",
       "      <td>1</td>\n",
       "      <td>-1</td>\n",
       "      <td>2</td>\n",
       "      <td>0</td>\n",
       "      <td>0</td>\n",
       "      <td>0</td>\n",
       "      <td>...</td>\n",
       "      <td>2682</td>\n",
       "      <td>3272</td>\n",
       "      <td>3261</td>\n",
       "      <td>0</td>\n",
       "      <td>1000</td>\n",
       "      <td>1000</td>\n",
       "      <td>1000</td>\n",
       "      <td>0</td>\n",
       "      <td>2000</td>\n",
       "      <td>1</td>\n",
       "    </tr>\n",
       "    <tr>\n",
       "      <td>3</td>\n",
       "      <td>90000</td>\n",
       "      <td>2</td>\n",
       "      <td>2</td>\n",
       "      <td>2</td>\n",
       "      <td>3</td>\n",
       "      <td>0</td>\n",
       "      <td>0</td>\n",
       "      <td>0</td>\n",
       "      <td>0</td>\n",
       "      <td>0</td>\n",
       "      <td>...</td>\n",
       "      <td>29239</td>\n",
       "      <td>14331</td>\n",
       "      <td>15549</td>\n",
       "      <td>1518</td>\n",
       "      <td>1500</td>\n",
       "      <td>1000</td>\n",
       "      <td>1000</td>\n",
       "      <td>1000</td>\n",
       "      <td>5000</td>\n",
       "      <td>0</td>\n",
       "    </tr>\n",
       "    <tr>\n",
       "      <td>4</td>\n",
       "      <td>50000</td>\n",
       "      <td>2</td>\n",
       "      <td>2</td>\n",
       "      <td>1</td>\n",
       "      <td>3</td>\n",
       "      <td>0</td>\n",
       "      <td>0</td>\n",
       "      <td>0</td>\n",
       "      <td>0</td>\n",
       "      <td>0</td>\n",
       "      <td>...</td>\n",
       "      <td>46990</td>\n",
       "      <td>28314</td>\n",
       "      <td>29547</td>\n",
       "      <td>2000</td>\n",
       "      <td>2019</td>\n",
       "      <td>1200</td>\n",
       "      <td>1100</td>\n",
       "      <td>1069</td>\n",
       "      <td>1000</td>\n",
       "      <td>0</td>\n",
       "    </tr>\n",
       "    <tr>\n",
       "      <td>5</td>\n",
       "      <td>50000</td>\n",
       "      <td>1</td>\n",
       "      <td>2</td>\n",
       "      <td>1</td>\n",
       "      <td>7</td>\n",
       "      <td>-1</td>\n",
       "      <td>0</td>\n",
       "      <td>-1</td>\n",
       "      <td>0</td>\n",
       "      <td>0</td>\n",
       "      <td>...</td>\n",
       "      <td>8617</td>\n",
       "      <td>20940</td>\n",
       "      <td>19131</td>\n",
       "      <td>2000</td>\n",
       "      <td>36681</td>\n",
       "      <td>10000</td>\n",
       "      <td>9000</td>\n",
       "      <td>689</td>\n",
       "      <td>679</td>\n",
       "      <td>0</td>\n",
       "    </tr>\n",
       "  </tbody>\n",
       "</table>\n",
       "<p>5 rows × 21 columns</p>\n",
       "</div>"
      ],
      "text/plain": [
       "    TotalLoan  Gender  Education  MaritalStatus  AgeGroup  HstPaySep15  HstPayAug15  HstPayJul15  \\\n",
       "Id                                                                                                 \n",
       "1       20000       2          2              1         1            2            2           -1   \n",
       "2      120000       2          2              2         1           -1            2            0   \n",
       "3       90000       2          2              2         3            0            0            0   \n",
       "4       50000       2          2              1         3            0            0            0   \n",
       "5       50000       1          2              1         7           -1            0           -1   \n",
       "\n",
       "    HstPayJun15  HstPayMay15  ...  BillSep15  BillJun15  BillApr15  PaySep15  PayAug15  PayJul15  \\\n",
       "Id                            ...                                                                  \n",
       "1            -1           -2  ...       3913          0          0         0       689         0   \n",
       "2             0            0  ...       2682       3272       3261         0      1000      1000   \n",
       "3             0            0  ...      29239      14331      15549      1518      1500      1000   \n",
       "4             0            0  ...      46990      28314      29547      2000      2019      1200   \n",
       "5             0            0  ...       8617      20940      19131      2000     36681     10000   \n",
       "\n",
       "    PayJun15  PayMay15  PayApr15  DefaultPayment  \n",
       "Id                                                \n",
       "1          0         0         0               1  \n",
       "2       1000         0      2000               1  \n",
       "3       1000      1000      5000               0  \n",
       "4       1100      1069      1000               0  \n",
       "5       9000       689       679               0  \n",
       "\n",
       "[5 rows x 21 columns]"
      ]
     },
     "execution_count": 5,
     "metadata": {},
     "output_type": "execute_result"
    }
   ],
   "source": [
    "# Load dataset\n",
    "df = pd.read_csv(url, sep=\",\")\n",
    "\n",
    "# set index Id column\n",
    "df = df.set_index('Id')\n",
    "\n",
    "print('Rows and columns count:', df.shape)\n",
    "df.head(5)"
   ]
  },
  {
   "cell_type": "markdown",
   "metadata": {},
   "source": [
    "#### Split into Train and Test Sets"
   ]
  },
  {
   "cell_type": "code",
   "execution_count": 6,
   "metadata": {},
   "outputs": [],
   "source": [
    "array = df.values\n",
    "X = array[:,0:19]\n",
    "Y = array[:,20]"
   ]
  },
  {
   "cell_type": "code",
   "execution_count": 7,
   "metadata": {},
   "outputs": [],
   "source": [
    "X_train, X_test, Y_train, Y_test = train_test_split(X, Y, test_size=test_size, random_state=seed)"
   ]
  },
  {
   "cell_type": "code",
   "execution_count": 8,
   "metadata": {},
   "outputs": [
    {
     "name": "stdout",
     "output_type": "stream",
     "text": [
      "Accuracy: 78.52%\n"
     ]
    }
   ],
   "source": [
    "# Model train\n",
    "model = LogisticRegression(solver='liblinear')\n",
    "model.fit(X_train, Y_train)\n",
    "\n",
    "# Model test\n",
    "result = model.score(X_test, Y_test)\n",
    "print(\"Accuracy: %.2f%%\" % (result*100.0))"
   ]
  },
  {
   "cell_type": "markdown",
   "metadata": {},
   "source": [
    "We can see that the estimated accuracy for the model was approximately 78.52%.\n",
    "\n",
    "##### K-fold Cross Validation"
   ]
  },
  {
   "cell_type": "code",
   "execution_count": 11,
   "metadata": {},
   "outputs": [
    {
     "name": "stdout",
     "output_type": "stream",
     "text": [
      "Accuracy: 77.88%, Standard Deviation: (0.87%)\n"
     ]
    }
   ],
   "source": [
    "kfold = KFold(n_splits=num_folds, random_state=seed, shuffle=True)\n",
    "model = LogisticRegression(solver='liblinear')\n",
    "\n",
    "results = cross_val_score(model, X, Y, cv=kfold)\n",
    "\n",
    "print(\"Accuracy: %.2f%%, Standard Deviation: (%.2f%%)\" % (results.mean()*100.0, results.std()*100.0))"
   ]
  },
  {
   "cell_type": "markdown",
   "metadata": {},
   "source": [
    "You can see that we report both the mean and the standard deviation of the performance measure. When summarizing performance measures, it is a good practice to summarize the distribution of the measures, in this case assuming a Gaussian distribution of performance (a very reasonable assumption) and recording the mean and standard deviation.\n",
    "\n",
    "##### Repeated Random Test-Train Splits\n",
    "\n",
    "Another variation on k-fold cross validation is to create a random split of the data like the train/test split described above, but repeat the process of splitting and evaluation of the algorithm multiple times, like cross validation. This has the speed of using a train/test split and the reduction in variance in the estimated performance of k-fold cross validation. You can also repeat the process many more times as needed to improve the accuracy."
   ]
  },
  {
   "cell_type": "code",
   "execution_count": 10,
   "metadata": {},
   "outputs": [
    {
     "name": "stdout",
     "output_type": "stream",
     "text": [
      "Accuracy: 78.00%, Standard Deviation: (0.43%)\n"
     ]
    }
   ],
   "source": [
    "kfold = ShuffleSplit(n_splits=n_splits, test_size=test_size, random_state=seed)\n",
    "model = LogisticRegression(solver='liblinear')\n",
    "\n",
    "results = cross_val_score(model, X, Y, cv=kfold)\n",
    "\n",
    "print(\"Accuracy: %.2f%%, Standard Deviation: (%.2f%%)\" % (results.mean()*100.0, results.std()*100.0))"
   ]
  },
  {
   "cell_type": "markdown",
   "metadata": {},
   "source": [
    "##### What Techniques to Use\n",
    "\n",
    "After comparing the three techniques and comparing their indicators for 'Accuracy' and 'Standard Deviation', better results were achieved with '**Random Test-Train Splits**', this being the one we will use for the rest of the exercises.\n",
    "\n",
    "#### Compare Algorithms\n",
    "\n",
    "For the purposes of implementation, the following six classification algorithms will be compared on a single dataset:\n",
    "- Logistic Regression.\n",
    "- Linear Discriminant Analysis.\n",
    "- k-Nearest Neighbors.\n",
    "- Classification and Regression Trees.\n",
    "- Naive Bayes.\n",
    "- Support Vector Machines."
   ]
  },
  {
   "cell_type": "code",
   "execution_count": 12,
   "metadata": {},
   "outputs": [],
   "source": [
    "# prepare models\n",
    "models = []\n",
    "models.append(('LR', LogisticRegression(solver='liblinear')))\n",
    "models.append(('LDA', LinearDiscriminantAnalysis()))\n",
    "models.append(('KNN', KNeighborsClassifier()))\n",
    "models.append(('CART', DecisionTreeClassifier()))\n",
    "#models.append(('NB', GaussianNB()))\n",
    "models.append(('SVM', SVC(gamma='scale')))"
   ]
  },
  {
   "cell_type": "code",
   "execution_count": 10,
   "metadata": {},
   "outputs": [
    {
     "name": "stdout",
     "output_type": "stream",
     "text": [
      "LR -> accuracy: (77.720833), Standard Deviation: (0.880351)\n",
      "LDA -> accuracy: (81.241667), Standard Deviation: (1.178187)\n",
      "KNN -> accuracy: (75.250000), Standard Deviation: (0.930949)\n",
      "CART -> accuracy: (72.904167), Standard Deviation: (1.092120)\n",
      "NB -> accuracy: (38.412500), Standard Deviation: (2.060664)\n",
      "SVM -> accuracy: (77.725000), Standard Deviation: (0.875436)\n"
     ]
    }
   ],
   "source": [
    "# evaluate each model with: K-fold Cross Validation\n",
    "results1 = []\n",
    "names1 = []\n",
    "scoring = 'accuracy'\n",
    "for name, model in models:\n",
    "    kfold = KFold(n_splits=10, random_state=7, shuffle=True)\n",
    "    cv_results = cross_val_score(model, X_train, Y_train, cv=kfold, scoring=scoring)\n",
    "    results1.append(cv_results)\n",
    "    names1.append(name)\n",
    "    msg = \"%s -> accuracy: (%3f), Standard Deviation: (%3f)\" % (name, cv_results.mean()*100, cv_results.std()*100)\n",
    "    print(msg)"
   ]
  },
  {
   "cell_type": "code",
   "execution_count": 19,
   "metadata": {},
   "outputs": [
    {
     "data": {
      "image/png": "[encoded data removed]",
      "text/plain": [
       "<Figure size 864x504 with 1 Axes>"
      ]
     },
     "metadata": {
      "needs_background": "light"
     },
     "output_type": "display_data"
    }
   ],
   "source": [
    "# boxplot algorithm comparison with: K-fold Cross Validation\n",
    "fig = plt.figure(figsize=(12, 7))\n",
    "fig.suptitle('Algorithm Comparison - K-fold Cross Validation')\n",
    "ax = fig.add_subplot(111)\n",
    "plt.boxplot(results1)\n",
    "ax.set_xticklabels(names1)\n",
    "#plt.figure(figsize=(12, 8))\n",
    "plt.show()"
   ]
  },
  {
   "cell_type": "code",
   "execution_count": 13,
   "metadata": {},
   "outputs": [
    {
     "name": "stdout",
     "output_type": "stream",
     "text": [
      "LR -> accuracy: (77.837500), Standard Deviation: (0.661884)\n",
      "LDA -> accuracy: (81.252083), Standard Deviation: (0.681950)\n",
      "KNN -> accuracy: (75.377083), Standard Deviation: (0.562612)\n",
      "CART -> accuracy: (72.575000), Standard Deviation: (0.565593)\n",
      "SVM -> accuracy: (77.837500), Standard Deviation: (0.655029)\n"
     ]
    }
   ],
   "source": [
    "# evaluate each model with: Repeated Random Test-Train Splits\n",
    "results2 = []\n",
    "names2 = []\n",
    "scoring = 'accuracy'\n",
    "for name, model in models:\n",
    "    kfold = ShuffleSplit(n_splits=n_splits, test_size=test_size, random_state=seed)\n",
    "    cv_results = cross_val_score(model, X_train, Y_train, cv=kfold, scoring=scoring)\n",
    "    results2.append(cv_results)\n",
    "    names2.append(name)\n",
    "    msg = \"%s -> accuracy: (%3f), Standard Deviation: (%3f)\" % (name, cv_results.mean()*100, cv_results.std()*100)\n",
    "    print(msg)"
   ]
  },
  {
   "cell_type": "code",
   "execution_count": 15,
   "metadata": {},
   "outputs": [
    {
     "data": {
      "image/png": "[encoded data removed]",
      "text/plain": [
       "<Figure size 864x504 with 1 Axes>"
      ]
     },
     "metadata": {
      "needs_background": "light"
     },
     "output_type": "display_data"
    },
    {
     "data": {
      "text/plain": [
       "<Figure size 432x288 with 0 Axes>"
      ]
     },
     "metadata": {},
     "output_type": "display_data"
    }
   ],
   "source": [
    "# boxplot algorithm comparison with: Repeated Random Test-Train Splits\n",
    "fig = plt.figure(figsize=(12, 7))\n",
    "fig.suptitle('Algorithm Comparison - Repeated Random Test-Train Splits')\n",
    "ax = fig.add_subplot(111)\n",
    "plt.boxplot(results2)\n",
    "ax.set_xticklabels(names2)\n",
    "plt.show()\n",
    "plt.savefig('.\\\\images\\\\AlgorithmComparison_RRTT_Splits.png')"
   ]
  },
  {
   "cell_type": "markdown",
   "metadata": {},
   "source": [
    "Results suggest that both '**Linear Discriminant Analysis**' and '**Logistic Regression**' are perhaps worthy of further study on this problem with '**Repeated Random Test-Train Splits**'. The following table shows the obtained results."
   ]
  },
  {
   "cell_type": "code",
   "execution_count": 21,
   "metadata": {},
   "outputs": [
    {
     "data": {
      "text/html": [
       "<div>\n",
       "<style scoped>\n",
       "    .dataframe tbody tr th:only-of-type {\n",
       "        vertical-align: middle;\n",
       "    }\n",
       "\n",
       "    .dataframe tbody tr th {\n",
       "        vertical-align: top;\n",
       "    }\n",
       "\n",
       "    .dataframe thead th {\n",
       "        text-align: right;\n",
       "    }\n",
       "</style>\n",
       "<table border=\"1\" class=\"dataframe\">\n",
       "  <thead>\n",
       "    <tr style=\"text-align: right;\">\n",
       "      <th></th>\n",
       "      <th>Algorithm</th>\n",
       "      <th>Acronym</th>\n",
       "      <th>CV</th>\n",
       "      <th>Accuracy</th>\n",
       "      <th>Standard Deviation</th>\n",
       "    </tr>\n",
       "  </thead>\n",
       "  <tbody>\n",
       "    <tr>\n",
       "      <td>0</td>\n",
       "      <td>Logistic Regression</td>\n",
       "      <td>LR</td>\n",
       "      <td>10-K-fold CV</td>\n",
       "      <td>77.88%</td>\n",
       "      <td>0.87%</td>\n",
       "    </tr>\n",
       "    <tr>\n",
       "      <td>1</td>\n",
       "      <td>Linear Discriminant Analysis</td>\n",
       "      <td>LDA</td>\n",
       "      <td>10-K-fold CV</td>\n",
       "      <td>81.15%</td>\n",
       "      <td>0.72%</td>\n",
       "    </tr>\n",
       "    <tr>\n",
       "      <td>2</td>\n",
       "      <td>k-Nearest Neighbors</td>\n",
       "      <td>KNN</td>\n",
       "      <td>10-K-fold CV</td>\n",
       "      <td>75.48%</td>\n",
       "      <td>0.79%</td>\n",
       "    </tr>\n",
       "    <tr>\n",
       "      <td>3</td>\n",
       "      <td>Classification and Regression Trees</td>\n",
       "      <td>CART</td>\n",
       "      <td>10-K-fold CV</td>\n",
       "      <td>72.36%</td>\n",
       "      <td>0.49%</td>\n",
       "    </tr>\n",
       "    <tr>\n",
       "      <td>4</td>\n",
       "      <td>Naive Bayes</td>\n",
       "      <td>NB</td>\n",
       "      <td>10-K-fold CV</td>\n",
       "      <td>39.38%</td>\n",
       "      <td>1.94%</td>\n",
       "    </tr>\n",
       "    <tr>\n",
       "      <td>5</td>\n",
       "      <td>Support Vector Machines</td>\n",
       "      <td>SVM</td>\n",
       "      <td>10-K-fold CV</td>\n",
       "      <td>77.88%</td>\n",
       "      <td>0.87%</td>\n",
       "    </tr>\n",
       "    <tr>\n",
       "      <td>6</td>\n",
       "      <td>Logistic Regression</td>\n",
       "      <td>LR</td>\n",
       "      <td>Repeated Random Splits</td>\n",
       "      <td>78.00%(**)</td>\n",
       "      <td>0.43%(**)</td>\n",
       "    </tr>\n",
       "    <tr>\n",
       "      <td>7</td>\n",
       "      <td>Linear Discriminant Analysis</td>\n",
       "      <td>LDA</td>\n",
       "      <td>Repeated Random Splits</td>\n",
       "      <td>81.14%(*)</td>\n",
       "      <td>0.44%(*)</td>\n",
       "    </tr>\n",
       "    <tr>\n",
       "      <td>8</td>\n",
       "      <td>k-Nearest Neighbors</td>\n",
       "      <td>KNN</td>\n",
       "      <td>Repeated Random Splits</td>\n",
       "      <td>75.58%</td>\n",
       "      <td>0.67%</td>\n",
       "    </tr>\n",
       "    <tr>\n",
       "      <td>9</td>\n",
       "      <td>Classification and Regression Trees</td>\n",
       "      <td>CART</td>\n",
       "      <td>Repeated Random Splits</td>\n",
       "      <td>72.78%</td>\n",
       "      <td>0.49%</td>\n",
       "    </tr>\n",
       "    <tr>\n",
       "      <td>10</td>\n",
       "      <td>Naive Bayes</td>\n",
       "      <td>NB</td>\n",
       "      <td>Repeated Random Splits</td>\n",
       "      <td>38.58%</td>\n",
       "      <td>1.59%</td>\n",
       "    </tr>\n",
       "    <tr>\n",
       "      <td>11</td>\n",
       "      <td>Support Vector Machines</td>\n",
       "      <td>SVM</td>\n",
       "      <td>Repeated Random Splits</td>\n",
       "      <td>77.99%</td>\n",
       "      <td>3.66%</td>\n",
       "    </tr>\n",
       "  </tbody>\n",
       "</table>\n",
       "</div>"
      ],
      "text/plain": [
       "                              Algorithm Acronym                      CV    Accuracy  \\\n",
       "0                   Logistic Regression      LR            10-K-fold CV      77.88%   \n",
       "1          Linear Discriminant Analysis     LDA            10-K-fold CV      81.15%   \n",
       "2                   k-Nearest Neighbors     KNN            10-K-fold CV      75.48%   \n",
       "3   Classification and Regression Trees    CART            10-K-fold CV      72.36%   \n",
       "4                           Naive Bayes      NB            10-K-fold CV      39.38%   \n",
       "5               Support Vector Machines     SVM            10-K-fold CV      77.88%   \n",
       "6                   Logistic Regression      LR  Repeated Random Splits  78.00%(**)   \n",
       "7          Linear Discriminant Analysis     LDA  Repeated Random Splits   81.14%(*)   \n",
       "8                   k-Nearest Neighbors     KNN  Repeated Random Splits      75.58%   \n",
       "9   Classification and Regression Trees    CART  Repeated Random Splits      72.78%   \n",
       "10                          Naive Bayes      NB  Repeated Random Splits      38.58%   \n",
       "11              Support Vector Machines     SVM  Repeated Random Splits      77.99%   \n",
       "\n",
       "   Standard Deviation  \n",
       "0               0.87%  \n",
       "1               0.72%  \n",
       "2               0.79%  \n",
       "3               0.49%  \n",
       "4               1.94%  \n",
       "5               0.87%  \n",
       "6           0.43%(**)  \n",
       "7            0.44%(*)  \n",
       "8               0.67%  \n",
       "9               0.49%  \n",
       "10              1.59%  \n",
       "11              3.66%  "
      ]
     },
     "execution_count": 21,
     "metadata": {},
     "output_type": "execute_result"
    }
   ],
   "source": [
    "# create table\n",
    "algsData = pd.DataFrame(columns=('Algorithm','Acronym','CV','Accuracy','Standard Deviation'))\n",
    "algsData.loc[len(algsData)]=['Logistic Regression','LR','10-K-fold CV','77.88%','0.87%']\n",
    "algsData.loc[len(algsData)]=['Linear Discriminant Analysis','LDA','10-K-fold CV','81.15%','0.72%']\n",
    "algsData.loc[len(algsData)]=['k-Nearest Neighbors','KNN','10-K-fold CV','75.48%','0.79%']\n",
    "algsData.loc[len(algsData)]=['Classification and Regression Trees','CART','10-K-fold CV','72.36%','0.49%']\n",
    "algsData.loc[len(algsData)]=['Naive Bayes','NB','10-K-fold CV','39.38%','1.94%']\n",
    "algsData.loc[len(algsData)]=['Support Vector Machines','SVM','10-K-fold CV','77.88%','0.87%']\n",
    "algsData.loc[len(algsData)]=['Logistic Regression','LR','Repeated Random Splits','78.00%(**)','0.43%(**)']\n",
    "algsData.loc[len(algsData)]=['Linear Discriminant Analysis','LDA','Repeated Random Splits','81.14%(*)','0.44%(*)']\n",
    "algsData.loc[len(algsData)]=['k-Nearest Neighbors','KNN','Repeated Random Splits','75.58%','0.67%']\n",
    "algsData.loc[len(algsData)]=['Classification and Regression Trees','CART','Repeated Random Splits','72.78%','0.49%']\n",
    "algsData.loc[len(algsData)]=['Naive Bayes','NB','Repeated Random Splits','38.58%','1.59%']\n",
    "algsData.loc[len(algsData)]=['Support Vector Machines','SVM','Repeated Random Splits','77.99%','3.66%']\n",
    "algsData"
   ]
  },
  {
   "cell_type": "markdown",
   "metadata": {},
   "source": [
    "#### Validation Model Task"
   ]
  },
  {
   "cell_type": "code",
   "execution_count": 38,
   "metadata": {},
   "outputs": [
    {
     "name": "stdout",
     "output_type": "stream",
     "text": [
      "Accuracy: 81.25%, Standard Deviation: (0.68%)\n"
     ]
    }
   ],
   "source": [
    "kfoldTs = ShuffleSplit(n_splits=n_splits, test_size=test_size, random_state=seed)\n",
    "modelTs = LinearDiscriminantAnalysis()\n",
    "\n",
    "scoring = 'accuracy'\n",
    "resultsTs = cross_val_score(modelTs, X_train, Y_train, cv=kfoldTs, scoring=scoring)\n",
    "\n",
    "print(\"Accuracy: %.2f%%, Standard Deviation: (%.2f%%)\" % (resultsTs.mean()*100.0, resultsTs.std()*100.0))"
   ]
  },
  {
   "cell_type": "code",
   "execution_count": 39,
   "metadata": {},
   "outputs": [
    {
     "name": "stdout",
     "output_type": "stream",
     "text": [
      "Accuracy: 81.22%\n"
     ]
    }
   ],
   "source": [
    "# Model test\n",
    "modelTs.fit(X_train, Y_train)\n",
    "\n",
    "result = modelTs.score(X_test, Y_test)\n",
    "print(\"Accuracy: %.2f%%\" % (result*100.0))"
   ]
  },
  {
   "cell_type": "code",
   "execution_count": 40,
   "metadata": {},
   "outputs": [
    {
     "name": "stdout",
     "output_type": "stream",
     "text": [
      "0.8121666666666667\n",
      "[[4541  169]\n",
      " [ 958  332]]\n",
      "              precision    recall  f1-score   support\n",
      "\n",
      "           0       0.83      0.96      0.89      4710\n",
      "           1       0.66      0.26      0.37      1290\n",
      "\n",
      "    accuracy                           0.81      6000\n",
      "   macro avg       0.74      0.61      0.63      6000\n",
      "weighted avg       0.79      0.81      0.78      6000\n",
      "\n"
     ]
    }
   ],
   "source": [
    "predictions = modelTs.predict(X_test)\n",
    "Y_test\n",
    "\n",
    "print(accuracy_score(Y_test, predictions))\n",
    "print(confusion_matrix(Y_test, predictions))\n",
    "print(classification_report(Y_test, predictions))"
   ]
  },
  {
   "cell_type": "markdown",
   "metadata": {},
   "source": [
    "#### Finalize and save"
   ]
  },
  {
   "cell_type": "code",
   "execution_count": 44,
   "metadata": {},
   "outputs": [],
   "source": [
    "# save the model to disk\n",
    "modelFileName = '.\\\\models\\\\lda_model.sav'\n",
    "dump(model, open(modelFileName, 'wb'))"
   ]
  }
 ],
 "metadata": {
  "kernelspec": {
   "display_name": "Python 3",
   "language": "python",
   "name": "python3"
  },
  "language_info": {
   "codemirror_mode": {
    "name": "ipython",
    "version": 3
   },
   "file_extension": ".py",
   "mimetype": "text/x-python",
   "name": "python",
   "nbconvert_exporter": "python",
   "pygments_lexer": "ipython3",
   "version": "3.7.4"
  }
 },
 "nbformat": 4,
 "nbformat_minor": 2
}
